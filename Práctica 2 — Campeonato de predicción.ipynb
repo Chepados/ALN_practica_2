{
 "cells": [
  {
   "cell_type": "markdown",
   "metadata": {},
   "source": [
    "# Práctica 2 — Campeonato de predicción\n",
    "\n",
    "A continuación se presentan 6 escenarios distintos, 6 casos de estudio donde, dados unos datos y/o condiciones, se te pedirá que realices una estimación o predicción sobre una variable. \n",
    "\n",
    "Puedes utilizar los conceptos vistos en el curso para resolver alguno de los casos propuestos, pero te recomiendo que no te limites a los métodos estudiados en esta asignatura. La práctica tiene un alto componente exploratorio y de investigación, los problemas son deliberadamente abiertos y no estructurados para permitir varios enfoques. Sé creativo.\n",
    "\n",
    "Para resolver esta práctica, puedes utilizar cualquier módulo externo, usar IAs para inspirarte, buscar problemas análogos online, etc. Todo está permitido. Eso sí, asegúrate de que justificas bien tus decisiones, en particular, los métodos o algoritmos que vas a usar para obtener cada una de las predicciones. Recuerda también citar tus fuentes."
   ]
  },
  {
   "cell_type": "markdown",
   "metadata": {},
   "source": [
    "\n",
    "### Instrucciones para la entrega\n",
    "\n",
    "La práctica puede realizarse en grupos de dos personas como máximo. Debe subirse a Moodle antes de las **23:59 del 20 de Noviembre de 2024**. Aunque desarrolles la práctica en grupo, cada miembro del grupo debe realizar la entrega individualmente. Entrega este mismo documento (el ```ipynb```) relleno con tus argumentos y respuestas. En particular, asegúrate de que describes con precisión tu proceso exploratorio hasta llegar a la solución final propuesta. No valen respuestas del tipo \"*He usado este algoritmo porque me lo ha dicho ChatGPT*\". Debes experimentar con el método que propones, compararlo con otros, argumentar por qué funciona en el contexto planteado, por qué no has usado otros métodos, etc. En la entrega, incluye todas las pruebas que hagas, incluso con algoritmos o métodos que finalmente hayas descartado. Piensa en este *notebook* como una especie de *diario de investigación* donde vayas reflejando tus experimentos.\n",
    "\n",
    "Además, debes rellenar la siguiente celda, para dejar claras tus predicciones para los 6 escenarios:"
   ]
  },
  {
   "cell_type": "code",
   "execution_count": null,
   "metadata": {},
   "outputs": [],
   "source": [
    "# RESPUESTAS: Predicciones/estimaciones. Rellena cada fila con un único valor numérico\n",
    "# 1.\n",
    "# 2.\n",
    "# 3.\n",
    "# 4.\n",
    "# 5.\n",
    "# 6."
   ]
  },
  {
   "cell_type": "markdown",
   "metadata": {},
   "source": [
    "### Evaluación\n",
    "\n",
    "Se tendrán en cuenta las siguientes consideraciones a la hora de evaluar la práctica:\n",
    " 1. Idoneidad de los método predictivos propuestos.\n",
    " 2. Experimentación suficiente y rigurosa.\n",
    " 3. Discusión crítica de resultados.\n",
    " 4. Limpieza de código y estilo.\n",
    " 5. Citas y referencias apropiadas.\n",
    "\n",
    "Además, si resultas ganador del campeonato, obtendrás **1.5 puntos extra** en la nota de esta práctica (pudiendo obtener una nota superior a 10).\n",
    "\n",
    "### Reglas del campeonato\n",
    "\n",
    "Se evaluará cada caso independientemente. Para cada caso, se hará un ranking con todos los participantes, ordenándolos de menor a mayor error en las predicciones realizadas en comparación con el valor exacto. En cada caso, el primer clasificado obtendrá 5 puntos, el segundo 3 y el tercero 1. Ganará el campeonato el grupo que más puntos acumule en los 6 casos."
   ]
  },
  {
   "cell_type": "markdown",
   "metadata": {},
   "source": [
    "------------------\n",
    "## Caso 1 — Serie temporal de una variable econométrica"
   ]
  },
  {
   "cell_type": "markdown",
   "metadata": {},
   "source": [
    "El siguiente archivo ( ```csv```) contiene la evolución temporal de una variable econométrica:\n",
    "\n",
    "[Descarga estos datos](https://drive.upm.es/s/to88gulrpHxLxjB/download)\n",
    "\n",
    "Los datos incluyen dos columnas. La primera es una fecha (tiempo), y la segunda es el valor econométrico a estudiar. Crea un modelo predictivo y predice el valor de la variable econométrica a fecha 1 de enero de 2023."
   ]
  },
  {
   "cell_type": "code",
   "execution_count": null,
   "metadata": {},
   "outputs": [],
   "source": []
  },
  {
   "cell_type": "markdown",
   "metadata": {},
   "source": [
    "------------------\n",
    "## Caso 2 — Estimación de un área\n",
    "\n",
    "En clase habrás recibido una hoja que contiene un área. La misma hoja contiene información sobre la escala. Realiza una estimación del área encerrada. "
   ]
  },
  {
   "cell_type": "code",
   "execution_count": null,
   "metadata": {},
   "outputs": [],
   "source": []
  },
  {
   "cell_type": "markdown",
   "metadata": {},
   "source": [
    "------------------\n",
    "## Caso 3 — Estimación funcional\n",
    "\n",
    "Observa los siguientes pares de valores $x$, $y$. Predice cuál será el valor asociado a un $x=-0.16$\n",
    "\n",
    "<center>\n",
    "\n",
    "|      $x$      |     $y$      |\n",
    "|-------------|------------|\n",
    "|  0.808      | 1.081      |\n",
    "|  0.087      | 3.166      |\n",
    "| -0.359      | 1.801      |\n",
    "| -0.281      | 1.949      |\n",
    "|  0.257      | 2.024      |\n",
    "|  0.279      | 1.979      |\n",
    "|  0.604      | 1.275      |\n",
    "| -0.303      | 1.880      |\n",
    "|  0.722      | 1.126      |\n",
    "| -0.760      | 1.130      |\n",
    "|  0.407      | 1.627      |\n",
    "|  0.215      | 2.247      |\n",
    "| -0.912      | 1.081      |\n",
    "|  0.013      | 5.006      |\n",
    "| -0.972      | 1.032      |\n",
    "\n",
    "\n",
    "</center>\n"
   ]
  },
  {
   "cell_type": "code",
   "execution_count": null,
   "metadata": {},
   "outputs": [],
   "source": []
  },
  {
   "cell_type": "markdown",
   "metadata": {},
   "source": [
    "------------------\n",
    "## Caso 4 — Subasta de 5€\n",
    "\n",
    "El día 28 de noviembre, en clase subastaré un billete de 5€. La subasta tiene unas normas un poco especiales:\n",
    " - El objetivo es pujar para ganar un billete de 5€.\n",
    " - El ganador recibirá 5€, pero a diferencia de las subastas \"normales\", **tanto el ganador como el subcampeón deberán pagar la cantidad de sus ofertas**.\n",
    " - Las ofertas deben aumentarse en incrementos mínimos de 20 céntimos.\n",
    " - No hay límites en la cantidad de rondas de pujas.\n",
    "\n",
    "Ejemplo: imagina que el grupo A comienza la puja por 20 céntimos. El grupo B sube la puja a 40 céntimos. El grupo A vuelve a subir la puja a 80 céntimos. Ahora el grupo C sube la puja a 1€ y 40 céntimos. No hay más pujas: el grupo B paga 80 céntimos. El grupo C paga 1€ y 40 céntimos, y recibe el billete de 5€.\n",
    "\n",
    "Si no pujas, no pierdes nada, y puedes ganar 5€ por una pequeña cantidad. Esto quiere decir que el [valor esperado](https://en.wikipedia.org/wiki/Expected_value) del juego es positivo, lo que significa que es rentable jugar.\n",
    "\n",
    "En el contexto de esta práctica, tu objetivo será **predecir la suma de las dos ofertas más altas** de la subasta."
   ]
  },
  {
   "cell_type": "code",
   "execution_count": null,
   "metadata": {},
   "outputs": [],
   "source": []
  },
  {
   "cell_type": "markdown",
   "metadata": {},
   "source": [
    "------------------\n",
    "## Caso 5 — Experimento físico\n",
    "\n",
    "En clase se describirá un experimento físico que se llevará a cabo el día 28 de noviembre. Presta atención a los datos dados y a la variable a predecir.\n"
   ]
  },
  {
   "cell_type": "code",
   "execution_count": null,
   "metadata": {},
   "outputs": [],
   "source": []
  },
  {
   "cell_type": "markdown",
   "metadata": {},
   "source": [
    "------------------\n",
    "## Caso 6 — Predicción deportiva\n",
    "\n",
    "El fin de semana del 29 Nov - 1 Dic se juega el partido O. Lyon vs Niza (*Ligue 1*, Francia). Tu objetivo es predecir el **número de corners que sacará el Niza** en ese partido. Tienes a tu disposición muchos datos históricos, por ejemplo en [esta web](https://www.football-data.co.uk/data.php)."
   ]
  },
  {
   "cell_type": "code",
   "execution_count": null,
   "metadata": {},
   "outputs": [],
   "source": []
  }
 ],
 "metadata": {
  "kernelspec": {
   "display_name": ".venv",
   "language": "python",
   "name": "python3"
  },
  "language_info": {
   "codemirror_mode": {
    "name": "ipython",
    "version": 3
   },
   "file_extension": ".py",
   "mimetype": "text/x-python",
   "name": "python",
   "nbconvert_exporter": "python",
   "pygments_lexer": "ipython3",
   "version": "3.12.6"
  }
 },
 "nbformat": 4,
 "nbformat_minor": 2
}
