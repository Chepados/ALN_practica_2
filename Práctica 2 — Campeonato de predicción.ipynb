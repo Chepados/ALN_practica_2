{
 "cells": [
  {
   "cell_type": "markdown",
   "metadata": {},
   "source": [
    "# Práctica 2 — Campeonato de predicción\n",
    "\n",
    "A continuación se presentan 6 escenarios distintos, 6 casos de estudio donde, dados unos datos y/o condiciones, se te pedirá que realices una estimación o predicción sobre una variable. \n",
    "\n",
    "Puedes utilizar los conceptos vistos en el curso para resolver alguno de los casos propuestos, pero te recomiendo que no te limites a los métodos estudiados en esta asignatura. La práctica tiene un alto componente exploratorio y de investigación, los problemas son deliberadamente abiertos y no estructurados para permitir varios enfoques. Sé creativo.\n",
    "\n",
    "Para resolver esta práctica, puedes utilizar cualquier módulo externo, usar IAs para inspirarte, buscar problemas análogos online, etc. Todo está permitido. Eso sí, asegúrate de que justificas bien tus decisiones, en particular, los métodos o algoritmos que vas a usar para obtener cada una de las predicciones. Recuerda también citar tus fuentes."
   ]
  },
  {
   "cell_type": "markdown",
   "metadata": {},
   "source": [
    "\n",
    "### Instrucciones para la entrega\n",
    "\n",
    "La práctica puede realizarse en grupos de dos personas como máximo. Debe subirse a Moodle antes de las **23:59 del 20 de Noviembre de 2024**. Aunque desarrolles la práctica en grupo, cada miembro del grupo debe realizar la entrega individualmente. Entrega este mismo documento (el ```ipynb```) relleno con tus argumentos y respuestas. En particular, asegúrate de que describes con precisión tu proceso exploratorio hasta llegar a la solución final propuesta. No valen respuestas del tipo \"*He usado este algoritmo porque me lo ha dicho ChatGPT*\". Debes experimentar con el método que propones, compararlo con otros, argumentar por qué funciona en el contexto planteado, por qué no has usado otros métodos, etc. En la entrega, incluye todas las pruebas que hagas, incluso con algoritmos o métodos que finalmente hayas descartado. Piensa en este *notebook* como una especie de *diario de investigación* donde vayas reflejando tus experimentos.\n",
    "\n",
    "Además, debes rellenar la siguiente celda, para dejar claras tus predicciones para los 6 escenarios:"
   ]
  },
  {
   "cell_type": "code",
   "metadata": {
    "ExecuteTime": {
     "end_time": "2024-11-24T20:35:58.919582Z",
     "start_time": "2024-11-24T20:35:58.916709Z"
    }
   },
   "source": [
    "# RESPUESTAS: Predicciones/estimaciones. Rellena cada fila con un único valor numérico\n",
    "# 1.\n",
    "# 2.\n",
    "# 3.\n",
    "# 4.\n",
    "# 5.\n",
    "# 6."
   ],
   "outputs": [],
   "execution_count": 65
  },
  {
   "cell_type": "markdown",
   "metadata": {},
   "source": [
    "### Evaluación\n",
    "\n",
    "Se tendrán en cuenta las siguientes consideraciones a la hora de evaluar la práctica:\n",
    " 1. Idoneidad de los método predictivos propuestos.\n",
    " 2. Experimentación suficiente y rigurosa.\n",
    " 3. Discusión crítica de resultados.\n",
    " 4. Limpieza de código y estilo.\n",
    " 5. Citas y referencias apropiadas.\n",
    "\n",
    "Además, si resultas ganador del campeonato, obtendrás **1.5 puntos extra** en la nota de esta práctica (pudiendo obtener una nota superior a 10).\n",
    "\n",
    "### Reglas del campeonato\n",
    "\n",
    "Se evaluará cada caso independientemente. Para cada caso, se hará un ranking con todos los participantes, ordenándolos de menor a mayor error en las predicciones realizadas en comparación con el valor exacto. En cada caso, el primer clasificado obtendrá 5 puntos, el segundo 3 y el tercero 1. Ganará el campeonato el grupo que más puntos acumule en los 6 casos."
   ]
  },
  {
   "cell_type": "markdown",
   "metadata": {},
   "source": [
    "------------------\n",
    "## Caso 1 — Serie temporal de una variable econométrica"
   ]
  },
  {
   "cell_type": "markdown",
   "metadata": {},
   "source": [
    "El siguiente archivo ( ```csv```) contiene la evolución temporal de una variable econométrica:\n",
    "\n",
    "[Descarga estos datos](https://drive.upm.es/s/to88gulrpHxLxjB/download)\n",
    "\n",
    "Los datos incluyen dos columnas. La primera es una fecha (tiempo), y la segunda es el valor econométrico a estudiar. Crea un modelo predictivo y predice el valor de la variable econométrica a fecha 1 de enero de 2023."
   ]
  },
  {
   "cell_type": "code",
   "metadata": {
    "ExecuteTime": {
     "end_time": "2024-11-24T20:35:58.933848Z",
     "start_time": "2024-11-24T20:35:58.931592Z"
    }
   },
   "source": [],
   "outputs": [],
   "execution_count": null
  },
  {
   "cell_type": "markdown",
   "metadata": {},
   "source": [
    "------------------\n",
    "## Caso 2 — Estimación de un área\n",
    "\n",
    "En clase habrás recibido una hoja que contiene un área. La misma hoja contiene información sobre la escala. Realiza una estimación del área encerrada. "
   ]
  },
  {
   "cell_type": "code",
   "metadata": {
    "ExecuteTime": {
     "end_time": "2024-11-24T20:35:58.946302Z",
     "start_time": "2024-11-24T20:35:58.943497Z"
    }
   },
   "source": [],
   "outputs": [],
   "execution_count": null
  },
  {
   "cell_type": "markdown",
   "metadata": {},
   "source": [
    "------------------\n",
    "## Caso 3 — Estimación funcional\n",
    "\n",
    "Observa los siguientes pares de valores $x$, $y$. Predice cuál será el valor asociado a un $x=-0.16$\n",
    "\n",
    "<center>\n",
    "\n",
    "|      $x$      |     $y$      |\n",
    "|-------------|------------|\n",
    "|  0.808      | 1.081      |\n",
    "|  0.087      | 3.166      |\n",
    "| -0.359      | 1.801      |\n",
    "| -0.281      | 1.949      |\n",
    "|  0.257      | 2.024      |\n",
    "|  0.279      | 1.979      |\n",
    "|  0.604      | 1.275      |\n",
    "| -0.303      | 1.880      |\n",
    "|  0.722      | 1.126      |\n",
    "| -0.760      | 1.130      |\n",
    "|  0.407      | 1.627      |\n",
    "|  0.215      | 2.247      |\n",
    "| -0.912      | 1.081      |\n",
    "|  0.013      | 5.006      |\n",
    "| -0.972      | 1.032      |\n",
    "\n",
    "\n",
    "</center>\n"
   ]
  },
  {
   "cell_type": "markdown",
   "metadata": {},
   "source": [
    "------------------\n",
    "## Caso 4 — Subasta de 5€\n",
    "\n",
    "El día 28 de noviembre, en clase subastaré un billete de 5€. La subasta tiene unas normas un poco especiales:\n",
    " - El objetivo es pujar para ganar un billete de 5€.\n",
    " - El ganador recibirá 5€, pero a diferencia de las subastas \"normales\", **tanto el ganador como el subcampeón deberán pagar la cantidad de sus ofertas**.\n",
    " - Las ofertas deben aumentarse en incrementos mínimos de 20 céntimos.\n",
    " - No hay límites en la cantidad de rondas de pujas.\n",
    "\n",
    "Ejemplo: imagina que el grupo A comienza la puja por 20 céntimos. El grupo B sube la puja a 40 céntimos. El grupo A vuelve a subir la puja a 80 céntimos. Ahora el grupo C sube la puja a 1€ y 40 céntimos. No hay más pujas: el grupo B paga 80 céntimos. El grupo C paga 1€ y 40 céntimos, y recibe el billete de 5€.\n",
    "\n",
    "Si no pujas, no pierdes nada, y puedes ganar 5€ por una pequeña cantidad. Esto quiere decir que el [valor esperado](https://en.wikipedia.org/wiki/Expected_value) del juego es positivo, lo que significa que es rentable jugar.\n",
    "\n",
    "En el contexto de esta práctica, tu objetivo será **predecir la suma de las dos ofertas más altas** de la subasta."
   ]
  },
  {
   "metadata": {},
   "cell_type": "markdown",
   "source": [
    "# Análisis del Problema desde el Punto de Vista del Valor Esperado\n",
    "\n",
    "Vamos a analizar el problema desde el punto de vista del valor esperado, una parámetro analíticamente equivalente a la medio, que estima lo que ganarías de media jugando esta estrategia interactivamente, (solo vamos a hacer una subasta, pero creemos que tiene sentido plantear lo siguiente).\n",
    "\n",
    "Sea \\( X \\) la apuesta que se hace. Solo se apuesta si:\n",
    "\n",
    "$$\n",
    "\\text{Valor esperado} > \\text{Pérdida esperada}\n",
    "$$\n",
    "\n",
    "Es decir, debemos garantizar que nuestra estrategia sea viable a largo plazo. Esto se cumple si el valor esperado compensa las posibles pérdidas. Planteamos las siguientes expresiones:\n",
    "\n",
    "$$\n",
    "\\text{Valor esperado} = P_{\\text{ganar}}(X) \\cdot (5 - X)\n",
    "$$\n",
    "\n",
    "$$\n",
    "\\text{Pérdida esperada} = P_{\\text{perder}}(X) \\cdot X\n",
    "$$\n",
    "\n",
    "## Desarrollo de la desigualdad:\n",
    "\n",
    "La condición para apostar se escribe como:\n",
    "\n",
    "$$\n",
    "P_{\\text{ganar}}(X) \\cdot (5 - X) > P_{\\text{perder}}(X) \\cdot X\n",
    "$$\n",
    "\n",
    "Distribuyendo y reorganizando los términos:\n",
    "\n",
    "$$\n",
    "5 \\cdot P_{\\text{ganar}}(X) - P_{\\text{ganar}}(X) \\cdot X > P_{\\text{perder}}(X) \\cdot X\n",
    "$$\n",
    "\n",
    "Factorizamos \\( X \\) en los términos correspondientes:\n",
    "\n",
    "$$\n",
    "5 \\cdot P_{\\text{ganar}}(X) > X \\cdot \\big(P_{\\text{perder}}(X) + P_{\\text{ganar}}(X)\\big)\n",
    "$$\n",
    "\n",
    "Dividimos ambos lados por \\( P_{\\text{ganar}}(X) + P_{\\text{perder}}(X) \\), suponiendo que esta cantidad es positiva:\n",
    "\n",
    "$$\n",
    "X < \\frac{5 \\cdot P_{\\text{ganar}}(X)}{P_{\\text{ganar}}(X) + P_{\\text{perder}}(X)}\n",
    "$$\n",
    "\n",
    "## Extraccion de conclusiones:\n",
    "\n",
    "Ahora tenemos una expresión analítica de la cota superior de X, sin embargo no conocemos las funciones de densidad de probabilidad, que estiman la probabilidad de ganar o de perder en función de la cantidad apostada.\n",
    "\n",
    "Para encontrar esta cota superior, planteamos dos posibles métodos:\n",
    "\n",
    "1. Encontrar una relación analitítica entre $$P_{\\text{ganar}}(X)\\ y \\ P_{\\text{perder}}(X) $$.\n",
    "2. Estimar que funciones deberían de seguir estas funciones de densidad.\n",
    "\n",
    "### Vamos a desarrollar el primer metodo:\n",
    "\n",
    "Creemos que puede tener sentido plantear la siguiente relación $$P_{\\text{ganar}}(X)\\ = \\ P_{\\text{perder}}(X) $$ Con el objetivo de modelar un escernario el que todo el mundo juega de manera optima da tal manera que la probabilidad de ganar es igual a la probabilidad de perder, es decir quedar primero o segundo. Con esto podemos resolver para la cota superior de X.\n",
    "\n",
    "$$\n",
    "X < \\frac{1}{2} \\cdot 5 = 2.5\n",
    "$$\n",
    "\n",
    "Es decir las las apuestas de los jugadores deben estar acotadas superiormente por 2.50 euros.\n"
   ]
  },
  {
   "metadata": {},
   "cell_type": "markdown",
   "source": [
    "Sin embargo es posible que asumir esto sea demasiado restrictivo, por lo que desarrollaremos el segundo método para comparar resultados.\n",
    "\n",
    "Podemos asumir varias cosas de las funciones de densidad.\n",
    "\n",
    "- Debe existir una relacion entre ambas ya que la $ P_{\\text{perder}}(X) $ mia debe ser igual a la $ P_{\\text{ganar}}(X + incremento) $ de el jugador que me gane, ya que solo pierdo si un jugador apuesta mas que yo y nadie apuesta mas que el.\n",
    "- vamos a fijar este incremente como 0.20 asumiendo de este modo que la diferencias en las apuestas de el que gana y el que pierde es del incremento mínimo algo que es muy común en las subastas.\n",
    "- Entonces conseguirmos expresar $ P_{\\text{perder}}(X) = P_{\\text{ganar}}(X + 0.20)$ \n",
    "- Se debe alcanzar la probabilidad de cero si se apuesta 0 y la probabilidad de 1 si se apuestan 5 euros, asumiendo que nadie va a apostar teniendo la garantia de perder dinero.\n",
    "\n"
   ]
  },
  {
   "metadata": {
    "ExecuteTime": {
     "end_time": "2024-11-24T20:35:59.050653Z",
     "start_time": "2024-11-24T20:35:58.964727Z"
    }
   },
   "cell_type": "code",
   "source": [
    "import matplotlib.pyplot as plt\n",
    "import numpy as np\n",
    "\n",
    "def p_ganar_lineal(x):\n",
    "    if x < 0:\n",
    "        return 0\n",
    "    if 0 <= x <= 5:\n",
    "        return x / 5\n",
    "    else:\n",
    "        return 1\n",
    "    \n",
    "plt.plot(np.linspace(-1, 6, 100), list(map(p_ganar_lineal, np.linspace(-1, 6, 100))))"
   ],
   "outputs": [
    {
     "data": {
      "text/plain": [
       "[<matplotlib.lines.Line2D at 0x1ae8d9275f0>]"
      ]
     },
     "execution_count": 66,
     "metadata": {},
     "output_type": "execute_result"
    },
    {
     "data": {
      "text/plain": [
       "<Figure size 640x480 with 1 Axes>"
      ],
      "image/png": "[encoded data removed]"
     },
     "metadata": {},
     "output_type": "display_data"
    }
   ],
   "execution_count": 66
  },
  {
   "metadata": {
    "ExecuteTime": {
     "end_time": "2024-11-24T20:40:38.608100Z",
     "start_time": "2024-11-24T20:40:38.603888Z"
    }
   },
   "cell_type": "code",
   "source": [
    "from scipy.optimize import root\n",
    "\n",
    "# Función P_perder\n",
    "def p_perder(x, p_ganar):\n",
    "    return p_ganar(x + 0.2)\n",
    "\n",
    "# Calcular la cota superior\n",
    "def cota_superior_apuesta(p_ganar):\n",
    "    # La función objetivo que queremos anular\n",
    "    def fun(x):\n",
    "        return (5 * p_ganar(x)) / (p_ganar(x) + p_perder(x, p_ganar)) - x\n",
    "\n",
    "    # Resolver la raíz\n",
    "    sol = root(fun, x0=[1])  # x0 es el punto inicial\n",
    "    return sol\n",
    "\n",
    "def printear_cota_superior(p_ganar):\n",
    "\n",
    "    # Llamada a la función\n",
    "    resultado = cota_superior_apuesta(p_ganar)\n",
    "    \n",
    "    # Imprimir el resultado\n",
    "    if resultado.success:\n",
    "        print(f\"Cota superior encontrada: {resultado.x[0]}\")\n",
    "    else:\n",
    "        print(\"No se encontró una solución.\")"
   ],
   "outputs": [],
   "execution_count": 70
  },
  {
   "metadata": {},
   "cell_type": "markdown",
   "source": [
    "proponemos otra funcion que quizas se aguste mas a la real, a la cual llegamos jugando con interoplacion de legrange en geogebra.\n",
    "\n",
    "<img src=\"img.png\">"
   ]
  },
  {
   "metadata": {
    "ExecuteTime": {
     "end_time": "2024-11-24T20:35:59.226910Z",
     "start_time": "2024-11-24T20:35:59.143966Z"
    }
   },
   "cell_type": "code",
   "source": [
    "def p_ganar_personalizado(x):\n",
    "    def expr(x):\n",
    "        a, b = 13, -2\n",
    "        return (x * (x - a)) / (5 * (5 - a)) + b * (x * (x - 5)) / (a * (a - 5))\n",
    "    if x < 0:\n",
    "        return 0\n",
    "    if 0 <= x <= 5:\n",
    "        valor = expr(x)\n",
    "        \n",
    "        if valor >= 1:\n",
    "            return 1\n",
    "        else:\n",
    "            return valor\n",
    "    else:\n",
    "        return 1\n",
    "    \n",
    "plt.plot(np.linspace(-1, 6, 100), list(map(p_ganar_personalizado, np.linspace(-1, 6, 100))))"
   ],
   "outputs": [
    {
     "data": {
      "text/plain": [
       "[<matplotlib.lines.Line2D at 0x1ae8d52c500>]"
      ]
     },
     "execution_count": 68,
     "metadata": {},
     "output_type": "execute_result"
    },
    {
     "data": {
      "text/plain": [
       "<Figure size 640x480 with 1 Axes>"
      ],
      "image/png": "[encoded data removed]"
     },
     "metadata": {},
     "output_type": "display_data"
    }
   ],
   "execution_count": 68
  },
  {
   "metadata": {
    "ExecuteTime": {
     "end_time": "2024-11-24T20:40:59.298503Z",
     "start_time": "2024-11-24T20:40:59.294274Z"
    }
   },
   "cell_type": "code",
   "source": "printear_cota_superior(p_ganar_personalizado)",
   "outputs": [
    {
     "name": "stdout",
     "output_type": "stream",
     "text": [
      "Cota superior encontrada: 2.437225210369047\n"
     ]
    }
   ],
   "execution_count": 71
  },
  {
   "metadata": {},
   "cell_type": "markdown",
   "source": [
    "## Solucion propuesta:\n",
    "Los tres métodos han llegado a resultados muy cercanos, nos vamos a quedar con la últimas de las soluciones y vamos a decir que última puja será de 2.40 y como estamos asumiendo una diferencia de 20 céntimos entre esta y la penúltima, el resultado final es de 4.60 euros que se pagaran por el billete."
   ]
  },
  {
   "cell_type": "markdown",
   "metadata": {},
   "source": [
    "------------------\n",
    "## Caso 5 — Experimento físico\n",
    "\n",
    "En clase se describirá un experimento físico que se llevará a cabo el día 28 de noviembre. Presta atención a los datos dados y a la variable a predecir.\n"
   ]
  },
  {
   "cell_type": "code",
   "metadata": {
    "ExecuteTime": {
     "end_time": "2024-11-24T20:35:59.343577Z",
     "start_time": "2024-11-24T20:35:59.341169Z"
    }
   },
   "source": "",
   "outputs": [],
   "execution_count": null
  },
  {
   "cell_type": "markdown",
   "metadata": {},
   "source": [
    "------------------\n",
    "## Caso 6 — Predicción deportiva\n",
    "\n",
    "El fin de semana del 29 Nov - 1 Dic se juega el partido O. Lyon vs Niza (*Ligue 1*, Francia). Tu objetivo es predecir el **número de corners que sacará el Niza** en ese partido. Tienes a tu disposición muchos datos históricos, por ejemplo en [esta web](https://www.football-data.co.uk/data.php)."
   ]
  },
  {
   "cell_type": "code",
   "metadata": {
    "ExecuteTime": {
     "end_time": "2024-11-24T20:35:59.365153Z",
     "start_time": "2024-11-24T20:35:59.362708Z"
    }
   },
   "source": [],
   "outputs": [],
   "execution_count": null
  }
 ],
 "metadata": {
  "kernelspec": {
   "display_name": ".venv",
   "language": "python",
   "name": "python3"
  },
  "language_info": {
   "codemirror_mode": {
    "name": "ipython",
    "version": 3
   },
   "file_extension": ".py",
   "mimetype": "text/x-python",
   "name": "python",
   "nbconvert_exporter": "python",
   "pygments_lexer": "ipython3",
   "version": "3.12.6"
  }
 },
 "nbformat": 4,
 "nbformat_minor": 2
}
