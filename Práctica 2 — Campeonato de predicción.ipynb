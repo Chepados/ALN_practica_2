{
 "cells": [
  {
   "cell_type": "markdown",
   "metadata": {},
   "source": [
    "# Práctica 2 — Campeonato de predicción\n",
    "\n",
    "A continuación se presentan 6 escenarios distintos, 6 casos de estudio donde, dados unos datos y/o condiciones, se te pedirá que realices una estimación o predicción sobre una variable. \n",
    "\n",
    "Puedes utilizar los conceptos vistos en el curso para resolver alguno de los casos propuestos, pero te recomiendo que no te limites a los métodos estudiados en esta asignatura. La práctica tiene un alto componente exploratorio y de investigación, los problemas son deliberadamente abiertos y no estructurados para permitir varios enfoques. Sé creativo.\n",
    "\n",
    "Para resolver esta práctica, puedes utilizar cualquier módulo externo, usar IAs para inspirarte, buscar problemas análogos online, etc. Todo está permitido. Eso sí, asegúrate de que justificas bien tus decisiones, en particular, los métodos o algoritmos que vas a usar para obtener cada una de las predicciones. Recuerda también citar tus fuentes."
   ]
  },
  {
   "cell_type": "markdown",
   "metadata": {},
   "source": [
    "\n",
    "### Instrucciones para la entrega\n",
    "\n",
    "La práctica puede realizarse en grupos de dos personas como máximo. Debe subirse a Moodle antes de las **23:59 del 20 de Noviembre de 2024**. Aunque desarrolles la práctica en grupo, cada miembro del grupo debe realizar la entrega individualmente. Entrega este mismo documento (el ```ipynb```) relleno con tus argumentos y respuestas. En particular, asegúrate de que describes con precisión tu proceso exploratorio hasta llegar a la solución final propuesta. No valen respuestas del tipo \"*He usado este algoritmo porque me lo ha dicho ChatGPT*\". Debes experimentar con el método que propones, compararlo con otros, argumentar por qué funciona en el contexto planteado, por qué no has usado otros métodos, etc. En la entrega, incluye todas las pruebas que hagas, incluso con algoritmos o métodos que finalmente hayas descartado. Piensa en este *notebook* como una especie de *diario de investigación* donde vayas reflejando tus experimentos.\n",
    "\n",
    "Además, debes rellenar la siguiente celda, para dejar claras tus predicciones para los 6 escenarios:"
   ]
  },
  {
   "cell_type": "code",
   "metadata": {
    "ExecuteTime": {
     "end_time": "2024-11-24T23:27:49.337947Z",
     "start_time": "2024-11-24T23:27:49.334873Z"
    }
   },
   "source": [
    "# RESPUESTAS: Predicciones/estimaciones. Rellena cada fila con un único valor numérico\n",
    "# 1.\n",
    "# 2.\n",
    "# 3.\n",
    "# 4.\n",
    "# 5.\n",
    "# 6."
   ],
   "outputs": [],
   "execution_count": 515
  },
  {
   "cell_type": "markdown",
   "metadata": {},
   "source": [
    "### Evaluación\n",
    "\n",
    "Se tendrán en cuenta las siguientes consideraciones a la hora de evaluar la práctica:\n",
    " 1. Idoneidad de los método predictivos propuestos.\n",
    " 2. Experimentación suficiente y rigurosa.\n",
    " 3. Discusión crítica de resultados.\n",
    " 4. Limpieza de código y estilo.\n",
    " 5. Citas y referencias apropiadas.\n",
    "\n",
    "Además, si resultas ganador del campeonato, obtendrás **1.5 puntos extra** en la nota de esta práctica (pudiendo obtener una nota superior a 10).\n",
    "\n",
    "### Reglas del campeonato\n",
    "\n",
    "Se evaluará cada caso independientemente. Para cada caso, se hará un ranking con todos los participantes, ordenándolos de menor a mayor error en las predicciones realizadas en comparación con el valor exacto. En cada caso, el primer clasificado obtendrá 5 puntos, el segundo 3 y el tercero 1. Ganará el campeonato el grupo que más puntos acumule en los 6 casos."
   ]
  },
  {
   "cell_type": "markdown",
   "metadata": {},
   "source": [
    "------------------\n",
    "## Caso 1 — Serie temporal de una variable econométrica"
   ]
  },
  {
   "cell_type": "markdown",
   "metadata": {},
   "source": [
    "El siguiente archivo ( ```csv```) contiene la evolución temporal de una variable econométrica:\n",
    "\n",
    "[Descarga estos datos](https://drive.upm.es/s/to88gulrpHxLxjB/download)\n",
    "\n",
    "Los datos incluyen dos columnas. La primera es una fecha (tiempo), y la segunda es el valor econométrico a estudiar. Crea un modelo predictivo y predice el valor de la variable econométrica a fecha 1 de enero de 2023."
   ]
  },
  {
   "metadata": {
    "ExecuteTime": {
     "end_time": "2024-11-25T00:03:38.543467Z",
     "start_time": "2024-11-25T00:03:38.515926Z"
    }
   },
   "cell_type": "code",
   "source": [
    "import pandas as pd\n",
    "import numpy as np\n",
    "import tensorflow as tf\n",
    "from sklearn.preprocessing import MinMaxScaler\n",
    "from sklearn.model_selection import train_test_split\n",
    "from tensorflow.keras.models import Sequential\n",
    "from tensorflow.keras.layers import Dense, LSTM\n",
    "import matplotlib.pyplot as plt\n",
    "\n",
    "# Cargar el CSV con los datos\n",
    "data = pd.read_csv('forecast_data.csv', header=None, names=['Fecha', 'Valor'], skiprows=1)\n",
    "\n",
    "# Convertir la columna 'Fecha' a tipo datetime\n",
    "data['Fecha'] = pd.to_datetime(data['Fecha'])\n",
    "\n",
    "# Usar solo la columna 'Valor' para la predicción\n",
    "values = data['Valor'].values.reshape(-1, 1)\n",
    "\n",
    "# Normalizar los datos con MinMaxScaler para mejorar el rendimiento del modelo\n",
    "scaler = MinMaxScaler(feature_range=(0, 1))\n",
    "scaled_values = scaler.fit_transform(values)\n",
    "\n",
    "# Crear un conjunto de datos de entrenamiento y prueba\n",
    "def create_dataset(dataset, time_step=1):\n",
    "    X, y = [], []\n",
    "    for i in range(len(dataset) - time_step - 1):\n",
    "        X.append(dataset[i:(i + time_step), 0])\n",
    "        y.append(dataset[i + time_step, 0])\n",
    "    return np.array(X), np.array(y)\n",
    "\n",
    "# Definir el número de pasos de tiempo para el modelo LSTM\n",
    "time_step = 10\n",
    "\n",
    "# Crear el conjunto de datos para entrenamiento\n",
    "X, y = create_dataset(scaled_values, time_step)\n",
    "\n",
    "# Reshaping para que se ajuste a la entrada de la red LSTM (samples, time_steps, features)\n",
    "X = X.reshape(X.shape[0], X.shape[1], 1)\n",
    "\n",
    "# Dividir los datos en conjunto de entrenamiento y prueba\n",
    "X_train, X_test, y_train, y_test = train_test_split(X, y, test_size=0.2, shuffle=False)\n",
    "\n",
    "# Construir el modelo LSTM\n",
    "model = Sequential()\n",
    "\n",
    "# Capa LSTM con 50 unidades\n",
    "model.add(LSTM(units=50, return_sequences=True, input_shape=(time_step, 1)))\n",
    "\n",
    "# Capa LSTM adicional\n",
    "model.add(LSTM(units=50, return_sequences=False))\n",
    "\n",
    "# Capa densa (fully connected) para la salida\n",
    "model.add(Dense(units=1))\n",
    "\n",
    "# Compilar el modelo\n",
    "model.compile(optimizer='adam', loss='mean_squared_error')\n",
    "\n",
    "# Entrenar el modelo\n",
    "history = model.fit(X_train, y_train, epochs=50, batch_size=32, validation_data=(X_test, y_test), verbose=1)\n",
    "\n",
    "# Hacer predicciones sobre el conjunto de prueba\n",
    "predictions = model.predict(X_test)\n",
    "\n",
    "# Invertir la normalización de las predicciones y los datos reales\n",
    "predictions = scaler.inverse_transform(predictions)\n",
    "y_test_rescaled = scaler.inverse_transform(y_test.reshape(-1, 1))\n",
    "\n",
    "# Graficar los resultados\n",
    "plt.figure(figsize=(10,6))\n",
    "plt.plot(data['Fecha'][-len(y_test_rescaled):].values, y_test_rescaled, color='blue', label='Valor Real')\n",
    "plt.plot(data['Fecha'][-len(predictions):].values, predictions, color='red', label='Predicción')\n",
    "plt.xlabel('Fecha')\n",
    "plt.ylabel('Valor')\n",
    "plt.title('Predicción de Valores con LSTM')\n",
    "plt.legend()\n",
    "plt.show()\n",
    "\n",
    "# Hacer una predicción para la fecha actual\n",
    "last_values = scaled_values[-time_step:].reshape(1, time_step, 1)\n",
    "current_prediction = model.predict(last_values)\n",
    "current_prediction_rescaled = scaler.inverse_transform(current_prediction)\n",
    "print(f'Predicción para la fecha actual: {current_prediction_rescaled[0][0]}')"
   ],
   "outputs": [
    {
     "ename": "ModuleNotFoundError",
     "evalue": "No module named 'tensorflow'",
     "output_type": "error",
     "traceback": [
      "\u001B[1;31m---------------------------------------------------------------------------\u001B[0m",
      "\u001B[1;31mModuleNotFoundError\u001B[0m                       Traceback (most recent call last)",
      "Cell \u001B[1;32mIn[594], line 3\u001B[0m\n\u001B[0;32m      1\u001B[0m \u001B[38;5;28;01mimport\u001B[39;00m \u001B[38;5;21;01mpandas\u001B[39;00m \u001B[38;5;28;01mas\u001B[39;00m \u001B[38;5;21;01mpd\u001B[39;00m\n\u001B[0;32m      2\u001B[0m \u001B[38;5;28;01mimport\u001B[39;00m \u001B[38;5;21;01mnumpy\u001B[39;00m \u001B[38;5;28;01mas\u001B[39;00m \u001B[38;5;21;01mnp\u001B[39;00m\n\u001B[1;32m----> 3\u001B[0m \u001B[38;5;28;01mimport\u001B[39;00m \u001B[38;5;21;01mtensorflow\u001B[39;00m \u001B[38;5;28;01mas\u001B[39;00m \u001B[38;5;21;01mtf\u001B[39;00m\n\u001B[0;32m      4\u001B[0m \u001B[38;5;28;01mfrom\u001B[39;00m \u001B[38;5;21;01msklearn\u001B[39;00m\u001B[38;5;21;01m.\u001B[39;00m\u001B[38;5;21;01mpreprocessing\u001B[39;00m \u001B[38;5;28;01mimport\u001B[39;00m MinMaxScaler\n\u001B[0;32m      5\u001B[0m \u001B[38;5;28;01mfrom\u001B[39;00m \u001B[38;5;21;01msklearn\u001B[39;00m\u001B[38;5;21;01m.\u001B[39;00m\u001B[38;5;21;01mmodel_selection\u001B[39;00m \u001B[38;5;28;01mimport\u001B[39;00m train_test_split\n",
      "\u001B[1;31mModuleNotFoundError\u001B[0m: No module named 'tensorflow'"
     ]
    }
   ],
   "execution_count": 594
  },
  {
   "metadata": {},
   "cell_type": "code",
   "outputs": [],
   "execution_count": null,
   "source": [
    "import tensorflow as tf\n",
    "from tensorflow.keras.models import Sequential\n",
    "from tensorflow.keras.layers import Dense\n",
    "\n",
    "# Definir el modelo\n",
    "model = Sequential([\n",
    "    Dense(64, input_dim=1, activation='relu'),\n",
    "    Dense(1)\n",
    "])\n",
    "\n",
    "# Compilar el modelo\n",
    "model.compile(optimizer='adam', loss='mean_squared_error')\n",
    "\n",
    "# Entrenar el modelo\n",
    "model.fit(X_train, y_train, epochs=50, batch_size=32)\n",
    "\n",
    "# Hacer predicciones\n",
    "y_pred_nn = model.predict(X_test)"
   ]
  },
  {
   "cell_type": "markdown",
   "metadata": {},
   "source": [
    "------------------\n",
    "## Caso 2 — Estimación de un área\n",
    "\n",
    "En clase habrás recibido una hoja que contiene un área. La misma hoja contiene información sobre la escala. Realiza una estimación del área encerrada. "
   ]
  },
  {
   "cell_type": "code",
   "metadata": {
    "ExecuteTime": {
     "end_time": "2024-11-24T23:27:49.412915Z",
     "start_time": "2024-11-24T23:27:49.410610Z"
    }
   },
   "source": [],
   "outputs": [],
   "execution_count": null
  },
  {
   "cell_type": "markdown",
   "metadata": {},
   "source": [
    "------------------\n",
    "## Caso 3 — Estimación funcional\n",
    "\n",
    "Observa los siguientes pares de valores $x$, $y$. Predice cuál será el valor asociado a un $x=-0.16$\n",
    "\n",
    "<center>\n",
    "\n",
    "|      $x$      |     $y$      |\n",
    "|-------------|------------|\n",
    "|  0.808      | 1.081      |\n",
    "|  0.087      | 3.166      |\n",
    "| -0.359      | 1.801      |\n",
    "| -0.281      | 1.949      |\n",
    "|  0.257      | 2.024      |\n",
    "|  0.279      | 1.979      |\n",
    "|  0.604      | 1.275      |\n",
    "| -0.303      | 1.880      |\n",
    "|  0.722      | 1.126      |\n",
    "| -0.760      | 1.130      |\n",
    "|  0.407      | 1.627      |\n",
    "|  0.215      | 2.247      |\n",
    "| -0.912      | 1.081      |\n",
    "|  0.013      | 5.006      |\n",
    "| -0.972      | 1.032      |\n",
    "\n",
    "\n",
    "</center>\n"
   ]
  },
  {
   "metadata": {
    "ExecuteTime": {
     "end_time": "2024-11-24T23:27:49.450555Z",
     "start_time": "2024-11-24T23:27:49.446965Z"
    }
   },
   "cell_type": "code",
   "source": [
    "import numpy as np\n",
    "import pandas as pd\n",
    "from scipy.interpolate import CubicSpline\n",
    "from sklearn.linear_model import LinearRegression\n",
    "import matplotlib.pyplot as plt\n",
    "\n",
    "# Datos proporcionados\n",
    "x_vals = np.array([0.808, 0.087, -0.359, -0.281, 0.257, 0.279, 0.604, -0.303, 0.722, -0.760, \n",
    "                   0.407, 0.215, -0.912, 0.013, -0.972])\n",
    "y_vals = np.array([1.081, 3.166, 1.801, 1.949, 2.024, 1.979, 1.275, 1.880, 1.126, 1.130,\n",
    "                   1.627, 2.247, 1.081, 5.006, 1.032])"
   ],
   "outputs": [],
   "execution_count": 516
  },
  {
   "metadata": {
    "ExecuteTime": {
     "end_time": "2024-11-24T23:27:49.639586Z",
     "start_time": "2024-11-24T23:27:49.545486Z"
    }
   },
   "cell_type": "code",
   "source": "plt.plot(x_vals, y_vals, \"ro\")\n",
   "outputs": [
    {
     "data": {
      "text/plain": [
       "[<matplotlib.lines.Line2D at 0x1ae9b33e4e0>]"
      ]
     },
     "execution_count": 517,
     "metadata": {},
     "output_type": "execute_result"
    },
    {
     "data": {
      "text/plain": [
       "<Figure size 640x480 with 1 Axes>"
      ],
      "image/png": "[encoded data removed]"
     },
     "metadata": {},
     "output_type": "display_data"
    }
   ],
   "execution_count": 517
  },
  {
   "metadata": {},
   "cell_type": "markdown",
   "source": ""
  },
  {
   "metadata": {
    "ExecuteTime": {
     "end_time": "2024-11-24T23:27:49.679748Z",
     "start_time": "2024-11-24T23:27:49.676136Z"
    }
   },
   "cell_type": "code",
   "source": [
    "import pandas as pd\n",
    "\n",
    "df = pd.DataFrame({\"y_vals\": y_vals, \"x_vals\": x_vals})\n"
   ],
   "outputs": [],
   "execution_count": 518
  },
  {
   "metadata": {
    "ExecuteTime": {
     "end_time": "2024-11-24T23:27:49.697050Z",
     "start_time": "2024-11-24T23:27:49.691759Z"
    }
   },
   "cell_type": "code",
   "source": [
    "grado_minimo_negativo = 3\n",
    "\n",
    "for i in range(2, grado_minimo_negativo + 1):\n",
    "    print(i)\n",
    "    df[f\"x_vals_{i}\"] = abs(df[\"x_vals\"] ** -i)\n",
    "    "
   ],
   "outputs": [
    {
     "name": "stdout",
     "output_type": "stream",
     "text": [
      "2\n",
      "3\n"
     ]
    }
   ],
   "execution_count": 519
  },
  {
   "metadata": {
    "ExecuteTime": {
     "end_time": "2024-11-24T23:27:49.727996Z",
     "start_time": "2024-11-24T23:27:49.718897Z"
    }
   },
   "cell_type": "code",
   "source": "df",
   "outputs": [
    {
     "data": {
      "text/plain": [
       "    y_vals  x_vals     x_vals_2       x_vals_3\n",
       "0    1.081   0.808     1.531713       1.895684\n",
       "1    3.166   0.087   132.117849    1518.595967\n",
       "2    1.801  -0.359     7.759096      21.613080\n",
       "3    1.949  -0.281    12.664480      45.069324\n",
       "4    2.024   0.257    15.140275      58.911574\n",
       "5    1.979   0.279    12.846700      46.045521\n",
       "6    1.275   0.604     2.741108       4.538258\n",
       "7    1.880  -0.303    10.892178      35.947783\n",
       "8    1.126   0.722     1.918340       2.656981\n",
       "9    1.130  -0.760     1.731302       2.278029\n",
       "10   1.627   0.407     6.036861      14.832582\n",
       "11   2.247   0.215    21.633315     100.620071\n",
       "12   1.081  -0.912     1.202293       1.318304\n",
       "13   5.006   0.013  5917.159763  455166.135640\n",
       "14   1.032  -0.972     1.058443       1.088933"
      ],
      "text/html": [
       "<div>\n",
       "<style scoped>\n",
       "    .dataframe tbody tr th:only-of-type {\n",
       "        vertical-align: middle;\n",
       "    }\n",
       "\n",
       "    .dataframe tbody tr th {\n",
       "        vertical-align: top;\n",
       "    }\n",
       "\n",
       "    .dataframe thead th {\n",
       "        text-align: right;\n",
       "    }\n",
       "</style>\n",
       "<table border=\"1\" class=\"dataframe\">\n",
       "  <thead>\n",
       "    <tr style=\"text-align: right;\">\n",
       "      <th></th>\n",
       "      <th>y_vals</th>\n",
       "      <th>x_vals</th>\n",
       "      <th>x_vals_2</th>\n",
       "      <th>x_vals_3</th>\n",
       "    </tr>\n",
       "  </thead>\n",
       "  <tbody>\n",
       "    <tr>\n",
       "      <th>0</th>\n",
       "      <td>1.081</td>\n",
       "      <td>0.808</td>\n",
       "      <td>1.531713</td>\n",
       "      <td>1.895684</td>\n",
       "    </tr>\n",
       "    <tr>\n",
       "      <th>1</th>\n",
       "      <td>3.166</td>\n",
       "      <td>0.087</td>\n",
       "      <td>132.117849</td>\n",
       "      <td>1518.595967</td>\n",
       "    </tr>\n",
       "    <tr>\n",
       "      <th>2</th>\n",
       "      <td>1.801</td>\n",
       "      <td>-0.359</td>\n",
       "      <td>7.759096</td>\n",
       "      <td>21.613080</td>\n",
       "    </tr>\n",
       "    <tr>\n",
       "      <th>3</th>\n",
       "      <td>1.949</td>\n",
       "      <td>-0.281</td>\n",
       "      <td>12.664480</td>\n",
       "      <td>45.069324</td>\n",
       "    </tr>\n",
       "    <tr>\n",
       "      <th>4</th>\n",
       "      <td>2.024</td>\n",
       "      <td>0.257</td>\n",
       "      <td>15.140275</td>\n",
       "      <td>58.911574</td>\n",
       "    </tr>\n",
       "    <tr>\n",
       "      <th>5</th>\n",
       "      <td>1.979</td>\n",
       "      <td>0.279</td>\n",
       "      <td>12.846700</td>\n",
       "      <td>46.045521</td>\n",
       "    </tr>\n",
       "    <tr>\n",
       "      <th>6</th>\n",
       "      <td>1.275</td>\n",
       "      <td>0.604</td>\n",
       "      <td>2.741108</td>\n",
       "      <td>4.538258</td>\n",
       "    </tr>\n",
       "    <tr>\n",
       "      <th>7</th>\n",
       "      <td>1.880</td>\n",
       "      <td>-0.303</td>\n",
       "      <td>10.892178</td>\n",
       "      <td>35.947783</td>\n",
       "    </tr>\n",
       "    <tr>\n",
       "      <th>8</th>\n",
       "      <td>1.126</td>\n",
       "      <td>0.722</td>\n",
       "      <td>1.918340</td>\n",
       "      <td>2.656981</td>\n",
       "    </tr>\n",
       "    <tr>\n",
       "      <th>9</th>\n",
       "      <td>1.130</td>\n",
       "      <td>-0.760</td>\n",
       "      <td>1.731302</td>\n",
       "      <td>2.278029</td>\n",
       "    </tr>\n",
       "    <tr>\n",
       "      <th>10</th>\n",
       "      <td>1.627</td>\n",
       "      <td>0.407</td>\n",
       "      <td>6.036861</td>\n",
       "      <td>14.832582</td>\n",
       "    </tr>\n",
       "    <tr>\n",
       "      <th>11</th>\n",
       "      <td>2.247</td>\n",
       "      <td>0.215</td>\n",
       "      <td>21.633315</td>\n",
       "      <td>100.620071</td>\n",
       "    </tr>\n",
       "    <tr>\n",
       "      <th>12</th>\n",
       "      <td>1.081</td>\n",
       "      <td>-0.912</td>\n",
       "      <td>1.202293</td>\n",
       "      <td>1.318304</td>\n",
       "    </tr>\n",
       "    <tr>\n",
       "      <th>13</th>\n",
       "      <td>5.006</td>\n",
       "      <td>0.013</td>\n",
       "      <td>5917.159763</td>\n",
       "      <td>455166.135640</td>\n",
       "    </tr>\n",
       "    <tr>\n",
       "      <th>14</th>\n",
       "      <td>1.032</td>\n",
       "      <td>-0.972</td>\n",
       "      <td>1.058443</td>\n",
       "      <td>1.088933</td>\n",
       "    </tr>\n",
       "  </tbody>\n",
       "</table>\n",
       "</div>"
      ]
     },
     "execution_count": 520,
     "metadata": {},
     "output_type": "execute_result"
    }
   ],
   "execution_count": 520
  },
  {
   "metadata": {
    "ExecuteTime": {
     "end_time": "2024-11-24T23:27:49.788759Z",
     "start_time": "2024-11-24T23:27:49.784961Z"
    }
   },
   "cell_type": "code",
   "source": "df.columns",
   "outputs": [
    {
     "data": {
      "text/plain": [
       "Index(['y_vals', 'x_vals', 'x_vals_2', 'x_vals_3'], dtype='object')"
      ]
     },
     "execution_count": 521,
     "metadata": {},
     "output_type": "execute_result"
    }
   ],
   "execution_count": 521
  },
  {
   "metadata": {
    "ExecuteTime": {
     "end_time": "2024-11-24T23:27:49.855814Z",
     "start_time": "2024-11-24T23:27:49.847982Z"
    }
   },
   "cell_type": "code",
   "source": [
    "from sklearn.linear_model import LinearRegression\n",
    "\n",
    "regressor = LinearRegression()\n",
    "\n",
    "X = df.iloc[:, 1:].values\n",
    "y = df[['y_vals']].values\n",
    "\n",
    "regressor.fit(X, y)"
   ],
   "outputs": [
    {
     "data": {
      "text/plain": [
       "LinearRegression()"
      ],
      "text/html": [
       "<style>#sk-container-id-27 {\n",
       "  /* Definition of color scheme common for light and dark mode */\n",
       "  --sklearn-color-text: black;\n",
       "  --sklearn-color-line: gray;\n",
       "  /* Definition of color scheme for unfitted estimators */\n",
       "  --sklearn-color-unfitted-level-0: #fff5e6;\n",
       "  --sklearn-color-unfitted-level-1: #f6e4d2;\n",
       "  --sklearn-color-unfitted-level-2: #ffe0b3;\n",
       "  --sklearn-color-unfitted-level-3: chocolate;\n",
       "  /* Definition of color scheme for fitted estimators */\n",
       "  --sklearn-color-fitted-level-0: #f0f8ff;\n",
       "  --sklearn-color-fitted-level-1: #d4ebff;\n",
       "  --sklearn-color-fitted-level-2: #b3dbfd;\n",
       "  --sklearn-color-fitted-level-3: cornflowerblue;\n",
       "\n",
       "  /* Specific color for light theme */\n",
       "  --sklearn-color-text-on-default-background: var(--sg-text-color, var(--theme-code-foreground, var(--jp-content-font-color1, black)));\n",
       "  --sklearn-color-background: var(--sg-background-color, var(--theme-background, var(--jp-layout-color0, white)));\n",
       "  --sklearn-color-border-box: var(--sg-text-color, var(--theme-code-foreground, var(--jp-content-font-color1, black)));\n",
       "  --sklearn-color-icon: #696969;\n",
       "\n",
       "  @media (prefers-color-scheme: dark) {\n",
       "    /* Redefinition of color scheme for dark theme */\n",
       "    --sklearn-color-text-on-default-background: var(--sg-text-color, var(--theme-code-foreground, var(--jp-content-font-color1, white)));\n",
       "    --sklearn-color-background: var(--sg-background-color, var(--theme-background, var(--jp-layout-color0, #111)));\n",
       "    --sklearn-color-border-box: var(--sg-text-color, var(--theme-code-foreground, var(--jp-content-font-color1, white)));\n",
       "    --sklearn-color-icon: #878787;\n",
       "  }\n",
       "}\n",
       "\n",
       "#sk-container-id-27 {\n",
       "  color: var(--sklearn-color-text);\n",
       "}\n",
       "\n",
       "#sk-container-id-27 pre {\n",
       "  padding: 0;\n",
       "}\n",
       "\n",
       "#sk-container-id-27 input.sk-hidden--visually {\n",
       "  border: 0;\n",
       "  clip: rect(1px 1px 1px 1px);\n",
       "  clip: rect(1px, 1px, 1px, 1px);\n",
       "  height: 1px;\n",
       "  margin: -1px;\n",
       "  overflow: hidden;\n",
       "  padding: 0;\n",
       "  position: absolute;\n",
       "  width: 1px;\n",
       "}\n",
       "\n",
       "#sk-container-id-27 div.sk-dashed-wrapped {\n",
       "  border: 1px dashed var(--sklearn-color-line);\n",
       "  margin: 0 0.4em 0.5em 0.4em;\n",
       "  box-sizing: border-box;\n",
       "  padding-bottom: 0.4em;\n",
       "  background-color: var(--sklearn-color-background);\n",
       "}\n",
       "\n",
       "#sk-container-id-27 div.sk-container {\n",
       "  /* jupyter's `normalize.less` sets `[hidden] { display: none; }`\n",
       "     but bootstrap.min.css set `[hidden] { display: none !important; }`\n",
       "     so we also need the `!important` here to be able to override the\n",
       "     default hidden behavior on the sphinx rendered scikit-learn.org.\n",
       "     See: https://github.com/scikit-learn/scikit-learn/issues/21755 */\n",
       "  display: inline-block !important;\n",
       "  position: relative;\n",
       "}\n",
       "\n",
       "#sk-container-id-27 div.sk-text-repr-fallback {\n",
       "  display: none;\n",
       "}\n",
       "\n",
       "div.sk-parallel-item,\n",
       "div.sk-serial,\n",
       "div.sk-item {\n",
       "  /* draw centered vertical line to link estimators */\n",
       "  background-image: linear-gradient(var(--sklearn-color-text-on-default-background), var(--sklearn-color-text-on-default-background));\n",
       "  background-size: 2px 100%;\n",
       "  background-repeat: no-repeat;\n",
       "  background-position: center center;\n",
       "}\n",
       "\n",
       "/* Parallel-specific style estimator block */\n",
       "\n",
       "#sk-container-id-27 div.sk-parallel-item::after {\n",
       "  content: \"\";\n",
       "  width: 100%;\n",
       "  border-bottom: 2px solid var(--sklearn-color-text-on-default-background);\n",
       "  flex-grow: 1;\n",
       "}\n",
       "\n",
       "#sk-container-id-27 div.sk-parallel {\n",
       "  display: flex;\n",
       "  align-items: stretch;\n",
       "  justify-content: center;\n",
       "  background-color: var(--sklearn-color-background);\n",
       "  position: relative;\n",
       "}\n",
       "\n",
       "#sk-container-id-27 div.sk-parallel-item {\n",
       "  display: flex;\n",
       "  flex-direction: column;\n",
       "}\n",
       "\n",
       "#sk-container-id-27 div.sk-parallel-item:first-child::after {\n",
       "  align-self: flex-end;\n",
       "  width: 50%;\n",
       "}\n",
       "\n",
       "#sk-container-id-27 div.sk-parallel-item:last-child::after {\n",
       "  align-self: flex-start;\n",
       "  width: 50%;\n",
       "}\n",
       "\n",
       "#sk-container-id-27 div.sk-parallel-item:only-child::after {\n",
       "  width: 0;\n",
       "}\n",
       "\n",
       "/* Serial-specific style estimator block */\n",
       "\n",
       "#sk-container-id-27 div.sk-serial {\n",
       "  display: flex;\n",
       "  flex-direction: column;\n",
       "  align-items: center;\n",
       "  background-color: var(--sklearn-color-background);\n",
       "  padding-right: 1em;\n",
       "  padding-left: 1em;\n",
       "}\n",
       "\n",
       "\n",
       "/* Toggleable style: style used for estimator/Pipeline/ColumnTransformer box that is\n",
       "clickable and can be expanded/collapsed.\n",
       "- Pipeline and ColumnTransformer use this feature and define the default style\n",
       "- Estimators will overwrite some part of the style using the `sk-estimator` class\n",
       "*/\n",
       "\n",
       "/* Pipeline and ColumnTransformer style (default) */\n",
       "\n",
       "#sk-container-id-27 div.sk-toggleable {\n",
       "  /* Default theme specific background. It is overwritten whether we have a\n",
       "  specific estimator or a Pipeline/ColumnTransformer */\n",
       "  background-color: var(--sklearn-color-background);\n",
       "}\n",
       "\n",
       "/* Toggleable label */\n",
       "#sk-container-id-27 label.sk-toggleable__label {\n",
       "  cursor: pointer;\n",
       "  display: block;\n",
       "  width: 100%;\n",
       "  margin-bottom: 0;\n",
       "  padding: 0.5em;\n",
       "  box-sizing: border-box;\n",
       "  text-align: center;\n",
       "}\n",
       "\n",
       "#sk-container-id-27 label.sk-toggleable__label-arrow:before {\n",
       "  /* Arrow on the left of the label */\n",
       "  content: \"▸\";\n",
       "  float: left;\n",
       "  margin-right: 0.25em;\n",
       "  color: var(--sklearn-color-icon);\n",
       "}\n",
       "\n",
       "#sk-container-id-27 label.sk-toggleable__label-arrow:hover:before {\n",
       "  color: var(--sklearn-color-text);\n",
       "}\n",
       "\n",
       "/* Toggleable content - dropdown */\n",
       "\n",
       "#sk-container-id-27 div.sk-toggleable__content {\n",
       "  max-height: 0;\n",
       "  max-width: 0;\n",
       "  overflow: hidden;\n",
       "  text-align: left;\n",
       "  /* unfitted */\n",
       "  background-color: var(--sklearn-color-unfitted-level-0);\n",
       "}\n",
       "\n",
       "#sk-container-id-27 div.sk-toggleable__content.fitted {\n",
       "  /* fitted */\n",
       "  background-color: var(--sklearn-color-fitted-level-0);\n",
       "}\n",
       "\n",
       "#sk-container-id-27 div.sk-toggleable__content pre {\n",
       "  margin: 0.2em;\n",
       "  border-radius: 0.25em;\n",
       "  color: var(--sklearn-color-text);\n",
       "  /* unfitted */\n",
       "  background-color: var(--sklearn-color-unfitted-level-0);\n",
       "}\n",
       "\n",
       "#sk-container-id-27 div.sk-toggleable__content.fitted pre {\n",
       "  /* unfitted */\n",
       "  background-color: var(--sklearn-color-fitted-level-0);\n",
       "}\n",
       "\n",
       "#sk-container-id-27 input.sk-toggleable__control:checked~div.sk-toggleable__content {\n",
       "  /* Expand drop-down */\n",
       "  max-height: 200px;\n",
       "  max-width: 100%;\n",
       "  overflow: auto;\n",
       "}\n",
       "\n",
       "#sk-container-id-27 input.sk-toggleable__control:checked~label.sk-toggleable__label-arrow:before {\n",
       "  content: \"▾\";\n",
       "}\n",
       "\n",
       "/* Pipeline/ColumnTransformer-specific style */\n",
       "\n",
       "#sk-container-id-27 div.sk-label input.sk-toggleable__control:checked~label.sk-toggleable__label {\n",
       "  color: var(--sklearn-color-text);\n",
       "  background-color: var(--sklearn-color-unfitted-level-2);\n",
       "}\n",
       "\n",
       "#sk-container-id-27 div.sk-label.fitted input.sk-toggleable__control:checked~label.sk-toggleable__label {\n",
       "  background-color: var(--sklearn-color-fitted-level-2);\n",
       "}\n",
       "\n",
       "/* Estimator-specific style */\n",
       "\n",
       "/* Colorize estimator box */\n",
       "#sk-container-id-27 div.sk-estimator input.sk-toggleable__control:checked~label.sk-toggleable__label {\n",
       "  /* unfitted */\n",
       "  background-color: var(--sklearn-color-unfitted-level-2);\n",
       "}\n",
       "\n",
       "#sk-container-id-27 div.sk-estimator.fitted input.sk-toggleable__control:checked~label.sk-toggleable__label {\n",
       "  /* fitted */\n",
       "  background-color: var(--sklearn-color-fitted-level-2);\n",
       "}\n",
       "\n",
       "#sk-container-id-27 div.sk-label label.sk-toggleable__label,\n",
       "#sk-container-id-27 div.sk-label label {\n",
       "  /* The background is the default theme color */\n",
       "  color: var(--sklearn-color-text-on-default-background);\n",
       "}\n",
       "\n",
       "/* On hover, darken the color of the background */\n",
       "#sk-container-id-27 div.sk-label:hover label.sk-toggleable__label {\n",
       "  color: var(--sklearn-color-text);\n",
       "  background-color: var(--sklearn-color-unfitted-level-2);\n",
       "}\n",
       "\n",
       "/* Label box, darken color on hover, fitted */\n",
       "#sk-container-id-27 div.sk-label.fitted:hover label.sk-toggleable__label.fitted {\n",
       "  color: var(--sklearn-color-text);\n",
       "  background-color: var(--sklearn-color-fitted-level-2);\n",
       "}\n",
       "\n",
       "/* Estimator label */\n",
       "\n",
       "#sk-container-id-27 div.sk-label label {\n",
       "  font-family: monospace;\n",
       "  font-weight: bold;\n",
       "  display: inline-block;\n",
       "  line-height: 1.2em;\n",
       "}\n",
       "\n",
       "#sk-container-id-27 div.sk-label-container {\n",
       "  text-align: center;\n",
       "}\n",
       "\n",
       "/* Estimator-specific */\n",
       "#sk-container-id-27 div.sk-estimator {\n",
       "  font-family: monospace;\n",
       "  border: 1px dotted var(--sklearn-color-border-box);\n",
       "  border-radius: 0.25em;\n",
       "  box-sizing: border-box;\n",
       "  margin-bottom: 0.5em;\n",
       "  /* unfitted */\n",
       "  background-color: var(--sklearn-color-unfitted-level-0);\n",
       "}\n",
       "\n",
       "#sk-container-id-27 div.sk-estimator.fitted {\n",
       "  /* fitted */\n",
       "  background-color: var(--sklearn-color-fitted-level-0);\n",
       "}\n",
       "\n",
       "/* on hover */\n",
       "#sk-container-id-27 div.sk-estimator:hover {\n",
       "  /* unfitted */\n",
       "  background-color: var(--sklearn-color-unfitted-level-2);\n",
       "}\n",
       "\n",
       "#sk-container-id-27 div.sk-estimator.fitted:hover {\n",
       "  /* fitted */\n",
       "  background-color: var(--sklearn-color-fitted-level-2);\n",
       "}\n",
       "\n",
       "/* Specification for estimator info (e.g. \"i\" and \"?\") */\n",
       "\n",
       "/* Common style for \"i\" and \"?\" */\n",
       "\n",
       ".sk-estimator-doc-link,\n",
       "a:link.sk-estimator-doc-link,\n",
       "a:visited.sk-estimator-doc-link {\n",
       "  float: right;\n",
       "  font-size: smaller;\n",
       "  line-height: 1em;\n",
       "  font-family: monospace;\n",
       "  background-color: var(--sklearn-color-background);\n",
       "  border-radius: 1em;\n",
       "  height: 1em;\n",
       "  width: 1em;\n",
       "  text-decoration: none !important;\n",
       "  margin-left: 1ex;\n",
       "  /* unfitted */\n",
       "  border: var(--sklearn-color-unfitted-level-1) 1pt solid;\n",
       "  color: var(--sklearn-color-unfitted-level-1);\n",
       "}\n",
       "\n",
       ".sk-estimator-doc-link.fitted,\n",
       "a:link.sk-estimator-doc-link.fitted,\n",
       "a:visited.sk-estimator-doc-link.fitted {\n",
       "  /* fitted */\n",
       "  border: var(--sklearn-color-fitted-level-1) 1pt solid;\n",
       "  color: var(--sklearn-color-fitted-level-1);\n",
       "}\n",
       "\n",
       "/* On hover */\n",
       "div.sk-estimator:hover .sk-estimator-doc-link:hover,\n",
       ".sk-estimator-doc-link:hover,\n",
       "div.sk-label-container:hover .sk-estimator-doc-link:hover,\n",
       ".sk-estimator-doc-link:hover {\n",
       "  /* unfitted */\n",
       "  background-color: var(--sklearn-color-unfitted-level-3);\n",
       "  color: var(--sklearn-color-background);\n",
       "  text-decoration: none;\n",
       "}\n",
       "\n",
       "div.sk-estimator.fitted:hover .sk-estimator-doc-link.fitted:hover,\n",
       ".sk-estimator-doc-link.fitted:hover,\n",
       "div.sk-label-container:hover .sk-estimator-doc-link.fitted:hover,\n",
       ".sk-estimator-doc-link.fitted:hover {\n",
       "  /* fitted */\n",
       "  background-color: var(--sklearn-color-fitted-level-3);\n",
       "  color: var(--sklearn-color-background);\n",
       "  text-decoration: none;\n",
       "}\n",
       "\n",
       "/* Span, style for the box shown on hovering the info icon */\n",
       ".sk-estimator-doc-link span {\n",
       "  display: none;\n",
       "  z-index: 9999;\n",
       "  position: relative;\n",
       "  font-weight: normal;\n",
       "  right: .2ex;\n",
       "  padding: .5ex;\n",
       "  margin: .5ex;\n",
       "  width: min-content;\n",
       "  min-width: 20ex;\n",
       "  max-width: 50ex;\n",
       "  color: var(--sklearn-color-text);\n",
       "  box-shadow: 2pt 2pt 4pt #999;\n",
       "  /* unfitted */\n",
       "  background: var(--sklearn-color-unfitted-level-0);\n",
       "  border: .5pt solid var(--sklearn-color-unfitted-level-3);\n",
       "}\n",
       "\n",
       ".sk-estimator-doc-link.fitted span {\n",
       "  /* fitted */\n",
       "  background: var(--sklearn-color-fitted-level-0);\n",
       "  border: var(--sklearn-color-fitted-level-3);\n",
       "}\n",
       "\n",
       ".sk-estimator-doc-link:hover span {\n",
       "  display: block;\n",
       "}\n",
       "\n",
       "/* \"?\"-specific style due to the `<a>` HTML tag */\n",
       "\n",
       "#sk-container-id-27 a.estimator_doc_link {\n",
       "  float: right;\n",
       "  font-size: 1rem;\n",
       "  line-height: 1em;\n",
       "  font-family: monospace;\n",
       "  background-color: var(--sklearn-color-background);\n",
       "  border-radius: 1rem;\n",
       "  height: 1rem;\n",
       "  width: 1rem;\n",
       "  text-decoration: none;\n",
       "  /* unfitted */\n",
       "  color: var(--sklearn-color-unfitted-level-1);\n",
       "  border: var(--sklearn-color-unfitted-level-1) 1pt solid;\n",
       "}\n",
       "\n",
       "#sk-container-id-27 a.estimator_doc_link.fitted {\n",
       "  /* fitted */\n",
       "  border: var(--sklearn-color-fitted-level-1) 1pt solid;\n",
       "  color: var(--sklearn-color-fitted-level-1);\n",
       "}\n",
       "\n",
       "/* On hover */\n",
       "#sk-container-id-27 a.estimator_doc_link:hover {\n",
       "  /* unfitted */\n",
       "  background-color: var(--sklearn-color-unfitted-level-3);\n",
       "  color: var(--sklearn-color-background);\n",
       "  text-decoration: none;\n",
       "}\n",
       "\n",
       "#sk-container-id-27 a.estimator_doc_link.fitted:hover {\n",
       "  /* fitted */\n",
       "  background-color: var(--sklearn-color-fitted-level-3);\n",
       "}\n",
       "</style><div id=\"sk-container-id-27\" class=\"sk-top-container\"><div class=\"sk-text-repr-fallback\"><pre>LinearRegression()</pre><b>In a Jupyter environment, please rerun this cell to show the HTML representation or trust the notebook. <br />On GitHub, the HTML representation is unable to render, please try loading this page with nbviewer.org.</b></div><div class=\"sk-container\" hidden><div class=\"sk-item\"><div class=\"sk-estimator fitted sk-toggleable\"><input class=\"sk-toggleable__control sk-hidden--visually\" id=\"sk-estimator-id-27\" type=\"checkbox\" checked><label for=\"sk-estimator-id-27\" class=\"sk-toggleable__label fitted sk-toggleable__label-arrow fitted\">&nbsp;&nbsp;LinearRegression<a class=\"sk-estimator-doc-link fitted\" rel=\"noreferrer\" target=\"_blank\" href=\"https://scikit-learn.org/1.5/modules/generated/sklearn.linear_model.LinearRegression.html\">?<span>Documentation for LinearRegression</span></a><span class=\"sk-estimator-doc-link fitted\">i<span>Fitted</span></span></label><div class=\"sk-toggleable__content fitted\"><pre>LinearRegression()</pre></div> </div></div></div></div>"
      ]
     },
     "execution_count": 522,
     "metadata": {},
     "output_type": "execute_result"
    }
   ],
   "execution_count": 522
  },
  {
   "metadata": {
    "ExecuteTime": {
     "end_time": "2024-11-24T23:27:49.928551Z",
     "start_time": "2024-11-24T23:27:49.923823Z"
    }
   },
   "cell_type": "code",
   "source": "regressor.coef_",
   "outputs": [
    {
     "data": {
      "text/plain": [
       "array([[ 0.08059516,  0.01737236, -0.00021796]])"
      ]
     },
     "execution_count": 523,
     "metadata": {},
     "output_type": "execute_result"
    }
   ],
   "execution_count": 523
  },
  {
   "metadata": {
    "ExecuteTime": {
     "end_time": "2024-11-24T23:27:49.990253Z",
     "start_time": "2024-11-24T23:27:49.985562Z"
    }
   },
   "cell_type": "code",
   "source": [
    "def x_procesada(x):\n",
    "    return [x ** -i for i in range(2, grado_minimo_negativo + 1)]\n",
    "\n",
    "x_procesada = np.array([0.808] + x_procesada(0.808)).reshape((1, -1)).tolist()\n",
    "print(regressor.predict(x_procesada))\n",
    "print(1.081)\n",
    "\n",
    "valor = 0\n",
    "\n",
    "for i in range(len(x_procesada)):\n",
    "    valor += abs(x_procesada[0][i] * regressor.coef_[0][i])\n",
    "print(regressor.intercept_)\n",
    "    \n",
    "print(valor)\n"
   ],
   "outputs": [
    {
     "name": "stdout",
     "output_type": "stream",
     "text": [
      "[[1.50821978]]\n",
      "1.081\n",
      "[1.41690261]\n",
      "0.06512089261685713\n"
     ]
    }
   ],
   "execution_count": 524
  },
  {
   "metadata": {
    "ExecuteTime": {
     "end_time": "2024-11-24T23:27:50.124607Z",
     "start_time": "2024-11-24T23:27:50.033836Z"
    }
   },
   "cell_type": "code",
   "source": [
    "def fun(x):\n",
    "    resultado = abs(regressor.coef_[0][0] * x)\n",
    "    for i, coef in enumerate(regressor.coef_[0][1:]):\n",
    "        resultado += coef * abs(x ** (-(2 + i)))\n",
    "        \n",
    "    return resultado + regressor.intercept_\n",
    "\n",
    "v_fun = np.vectorize(fun)\n",
    "        \n",
    "x_plot = np.linspace(-1, 1, 1000)\n",
    "y_plot = list(map(fun, x_plot))\n",
    "\n",
    "plt.plot(x_plot, y_plot, \"y\")\n",
    "plt.plot(x_vals, regressor.predict(X), \"bo\")\n",
    "plt.plot(x_vals, y_vals, \"ro\")\n",
    "plt.ylim([0, 5])"
   ],
   "outputs": [
    {
     "data": {
      "text/plain": [
       "(0.0, 5.0)"
      ]
     },
     "execution_count": 525,
     "metadata": {},
     "output_type": "execute_result"
    },
    {
     "data": {
      "text/plain": [
       "<Figure size 640x480 with 1 Axes>"
      ],
      "image/png": "[encoded data removed]"
     },
     "metadata": {},
     "output_type": "display_data"
    }
   ],
   "execution_count": 525
  },
  {
   "metadata": {
    "ExecuteTime": {
     "end_time": "2024-11-24T23:27:50.144812Z",
     "start_time": "2024-11-24T23:27:50.140621Z"
    }
   },
   "cell_type": "code",
   "source": "regressor.coef_",
   "outputs": [
    {
     "data": {
      "text/plain": [
       "array([[ 0.08059516,  0.01737236, -0.00021796]])"
      ]
     },
     "execution_count": 526,
     "metadata": {},
     "output_type": "execute_result"
    }
   ],
   "execution_count": 526
  },
  {
   "metadata": {
    "ExecuteTime": {
     "end_time": "2024-11-24T23:27:50.192780Z",
     "start_time": "2024-11-24T23:27:50.189196Z"
    }
   },
   "cell_type": "code",
   "source": [
    "# Datos proporcionados\n",
    "x_vals = np.array([0.808, 0.087, -0.359, -0.281, 0.257, 0.279, 0.604, -0.303, 0.722, -0.760, \n",
    "                   0.407, 0.215, -0.912, 0.013, -0.972])\n",
    "y_vals = np.array([1.081, 3.166, 1.801, 1.949, 2.024, 1.979, 1.275, 1.880, 1.126, 1.130,\n",
    "                   1.627, 2.247, 1.081, 5.006, 1.032])"
   ],
   "outputs": [],
   "execution_count": 527
  },
  {
   "metadata": {
    "ExecuteTime": {
     "end_time": "2024-11-24T23:27:50.230899Z",
     "start_time": "2024-11-24T23:27:50.227410Z"
    }
   },
   "cell_type": "code",
   "source": "x_vals, y_vals = np.array(sorted(zip(x_vals, y_vals), key = lambda x: x[0])).T",
   "outputs": [],
   "execution_count": 528
  },
  {
   "metadata": {
    "ExecuteTime": {
     "end_time": "2024-11-24T23:27:50.401591Z",
     "start_time": "2024-11-24T23:27:50.268427Z"
    }
   },
   "cell_type": "code",
   "source": [
    "from scipy.interpolate import CubicSpline\n",
    "\n",
    "splines = CubicSpline(x_vals, y_vals)\n",
    "\n",
    "x_plot = np.linspace(-1, 1, 100)\n",
    "y_analitica = splines(x_plot)\n",
    "\n",
    "plt.figure(figsize=(10, 6))\n",
    "plt.plot(x_vals, y_vals, \"ro\", label=\"Datos originales\")\n",
    "plt.plot(x_plot, y_analitica, \"g-\", label=\"Solución analítica (coef. no negativos)\")\n",
    "plt.ylim([0, 5])\n",
    "plt.xlabel(\"x\")\n",
    "plt.ylabel(\"y\")\n",
    "plt.legend()\n",
    "plt.title(\"Comparación de datos y solución analítica (coeficientes no negativos)\")\n",
    "plt.grid(True)\n",
    "plt.show()"
   ],
   "outputs": [
    {
     "data": {
      "text/plain": [
       "<Figure size 1000x600 with 1 Axes>"
      ],
      "image/png": "[encoded data removed]"
     },
     "metadata": {},
     "output_type": "display_data"
    }
   ],
   "execution_count": 529
  },
  {
   "metadata": {
    "ExecuteTime": {
     "end_time": "2024-11-24T23:27:50.534781Z",
     "start_time": "2024-11-24T23:27:50.421020Z"
    }
   },
   "cell_type": "code",
   "source": [
    "import numpy as np\n",
    "import pandas as pd\n",
    "from sklearn.svm import SVR\n",
    "import matplotlib.pyplot as plt\n",
    "\n",
    "# Datos proporcionados\n",
    "x_vals = np.array([0.808, 0.087, -0.359, -0.281, 0.257, 0.279, 0.604, -0.303, 0.722, -0.760, \n",
    "                   0.407, 0.215, -0.912, 0.013, -0.972])\n",
    "y_vals = np.array([1.081, 3.166, 1.801, 1.949, 2.024, 1.979, 1.275, 1.880, 1.126, 1.130,\n",
    "                   1.627, 2.247, 1.081, 5.006, 1.032])\n",
    "\n",
    "# Crear DataFrame\n",
    "df = pd.DataFrame({\"y_vals\": y_vals, \"x_vals\": x_vals})\n",
    "\n",
    "# Preprocesar los datos para el modelo SVR\n",
    "X = df[['x_vals']].values\n",
    "y = df['y_vals'].values\n",
    "\n",
    "# Ajustar el modelo SVR (Se usa un kernel RBF para suavizar la función)\n",
    "svr = SVR(kernel='rbf', C=100, epsilon=0.1)\n",
    "\n",
    "# Ajuste del modelo SVR\n",
    "svr.fit(X, y)\n",
    "\n",
    "# Generar valores predichos por el modelo para un rango más amplio de x\n",
    "x_plot = np.linspace(-1, 1, 100).reshape(-1, 1)\n",
    "y_svr = svr.predict(x_plot)\n",
    "\n",
    "# Graficar los resultados\n",
    "plt.figure(figsize=(10, 6))\n",
    "plt.plot(x_vals, y_vals, \"ro\", label=\"Datos originales\")  # Puntos originales\n",
    "plt.plot(x_plot, y_svr, \"g-\", label=\"Predicción SVR (suave y continua)\")  # Predicción suave\n",
    "plt.ylim([0, 5])\n",
    "plt.xlabel(\"x\")\n",
    "plt.ylabel(\"y\")\n",
    "plt.legend()\n",
    "plt.title(\"Uso de SVR para generar una función continua\")\n",
    "plt.grid(True)\n",
    "plt.show()"
   ],
   "outputs": [
    {
     "data": {
      "text/plain": [
       "<Figure size 1000x600 with 1 Axes>"
      ],
      "image/png": "[encoded data removed]"
     },
     "metadata": {},
     "output_type": "display_data"
    }
   ],
   "execution_count": 530
  },
  {
   "metadata": {
    "ExecuteTime": {
     "end_time": "2024-11-24T23:40:29.535556Z",
     "start_time": "2024-11-24T23:40:29.529084Z"
    }
   },
   "cell_type": "code",
   "source": [
    "from scipy.optimize import curve_fit\n",
    "\n",
    "def modelo(x, a, b, c):\n",
    "    return a * np.exp(-b * np.abs(x)) + c\n",
    "\n",
    "parametros_ini = [5, 1, 1]  # Suposición inicial de los parámetros\n",
    "parametros_optimos, covarianza = curve_fit(modelo, x_vals, y_vals, p0=parametros_ini)\n",
    "\n",
    "a_opt, b_opt, c_opt = parametros_optimos\n",
    "print(f\"a = {a_opt} b = {b_opt} c = {c_opt}\")\n",
    "\n",
    "x_pred = -0.16\n",
    "y_pred = modelo(x_pred, a_opt, b_opt, c_opt)\n",
    "print(f\"x = {x_pred} y = {y_pred:.3f}\")"
   ],
   "outputs": [
    {
     "name": "stdout",
     "output_type": "stream",
     "text": [
      "a = 3.9936864246674784 b = 5.662535747794341 c = 1.10212398501903\n",
      "x = -0.16 y = 2.716\n"
     ]
    }
   ],
   "execution_count": 541
  },
  {
   "metadata": {
    "ExecuteTime": {
     "end_time": "2024-11-24T23:40:30.966476Z",
     "start_time": "2024-11-24T23:40:30.863512Z"
    }
   },
   "cell_type": "code",
   "source": [
    "x_ajuste = np.linspace(min(x_vals), max(x_vals), 200)\n",
    "y_ajuste = modelo(x_ajuste, a_opt, b_opt, c_opt)\n",
    "\n",
    "plt.scatter(x_vals, y_vals)\n",
    "plt.plot(x_ajuste, y_ajuste, color='red',)\n",
    "plt.scatter(x_pred, y_pred, color='green')\n",
    "plt.xlabel('x')\n",
    "plt.ylabel('y')\n",
    "plt.show()\n"
   ],
   "outputs": [
    {
     "data": {
      "text/plain": [
       "<Figure size 640x480 with 1 Axes>"
      ],
      "image/png": "[encoded data removed]"
     },
     "metadata": {},
     "output_type": "display_data"
    }
   ],
   "execution_count": 542
  },
  {
   "cell_type": "markdown",
   "metadata": {},
   "source": [
    "------------------\n",
    "## Caso 4 — Subasta de 5€\n",
    "\n",
    "El día 28 de noviembre, en clase subastaré un billete de 5€. La subasta tiene unas normas un poco especiales:\n",
    " - El objetivo es pujar para ganar un billete de 5€.\n",
    " - El ganador recibirá 5€, pero a diferencia de las subastas \"normales\", **tanto el ganador como el subcampeón deberán pagar la cantidad de sus ofertas**.\n",
    " - Las ofertas deben aumentarse en incrementos mínimos de 20 céntimos.\n",
    " - No hay límites en la cantidad de rondas de pujas.\n",
    "\n",
    "Ejemplo: imagina que el grupo A comienza la puja por 20 céntimos. El grupo B sube la puja a 40 céntimos. El grupo A vuelve a subir la puja a 80 céntimos. Ahora el grupo C sube la puja a 1€ y 40 céntimos. No hay más pujas: el grupo B paga 80 céntimos. El grupo C paga 1€ y 40 céntimos, y recibe el billete de 5€.\n",
    "\n",
    "Si no pujas, no pierdes nada, y puedes ganar 5€ por una pequeña cantidad. Esto quiere decir que el [valor esperado](https://en.wikipedia.org/wiki/Expected_value) del juego es positivo, lo que significa que es rentable jugar.\n",
    "\n",
    "En el contexto de esta práctica, tu objetivo será **predecir la suma de las dos ofertas más altas** de la subasta."
   ]
  },
  {
   "metadata": {},
   "cell_type": "markdown",
   "source": [
    "# Análisis del Problema desde el Punto de Vista del Valor Esperado\n",
    "\n",
    "Vamos a analizar el problema desde el punto de vista del valor esperado, una parámetro analíticamente equivalente a la medio, que estima lo que ganarías de media jugando esta estrategia interactivamente, (solo vamos a hacer una subasta, pero creemos que tiene sentido plantear lo siguiente).\n",
    "\n",
    "Sea \\( X \\) la apuesta que se hace. Solo se apuesta si:\n",
    "\n",
    "$$\n",
    "\\text{Valor esperado} > \\text{Pérdida esperada}\n",
    "$$\n",
    "\n",
    "Es decir, debemos garantizar que nuestra estrategia sea viable a largo plazo. Esto se cumple si el valor esperado compensa las posibles pérdidas. Planteamos las siguientes expresiones:\n",
    "\n",
    "$$\n",
    "\\text{Valor esperado} = P_{\\text{ganar}}(X) \\cdot (5 - X)\n",
    "$$\n",
    "\n",
    "$$\n",
    "\\text{Pérdida esperada} = P_{\\text{perder}}(X) \\cdot X\n",
    "$$\n",
    "\n",
    "## Desarrollo de la desigualdad:\n",
    "\n",
    "La condición para apostar se escribe como:\n",
    "\n",
    "$$\n",
    "P_{\\text{ganar}}(X) \\cdot (5 - X) > P_{\\text{perder}}(X) \\cdot X\n",
    "$$\n",
    "\n",
    "Distribuyendo y reorganizando los términos:\n",
    "\n",
    "$$\n",
    "5 \\cdot P_{\\text{ganar}}(X) - P_{\\text{ganar}}(X) \\cdot X > P_{\\text{perder}}(X) \\cdot X\n",
    "$$\n",
    "\n",
    "Factorizamos \\( X \\) en los términos correspondientes:\n",
    "\n",
    "$$\n",
    "5 \\cdot P_{\\text{ganar}}(X) > X \\cdot \\big(P_{\\text{perder}}(X) + P_{\\text{ganar}}(X)\\big)\n",
    "$$\n",
    "\n",
    "Dividimos ambos lados por \\( P_{\\text{ganar}}(X) + P_{\\text{perder}}(X) \\), suponiendo que esta cantidad es positiva:\n",
    "\n",
    "$$\n",
    "X < \\frac{5 \\cdot P_{\\text{ganar}}(X)}{P_{\\text{ganar}}(X) + P_{\\text{perder}}(X)}\n",
    "$$\n",
    "\n",
    "## Extraccion de conclusiones:\n",
    "\n",
    "Ahora tenemos una expresión analítica de la cota superior de X, sin embargo no conocemos las funciones de densidad de probabilidad, que estiman la probabilidad de ganar o de perder en función de la cantidad apostada.\n",
    "\n",
    "Para encontrar esta cota superior, planteamos dos posibles métodos:\n",
    "\n",
    "1. Encontrar una relación analitítica entre $$P_{\\text{ganar}}(X)\\ y \\ P_{\\text{perder}}(X) $$.\n",
    "2. Estimar que funciones deberían de seguir estas funciones de densidad.\n",
    "\n",
    "### Vamos a desarrollar el primer metodo:\n",
    "\n",
    "Creemos que puede tener sentido plantear la siguiente relación $$P_{\\text{ganar}}(X)\\ = \\ P_{\\text{perder}}(X) $$ Con el objetivo de modelar un escernario el que todo el mundo juega de manera optima da tal manera que la probabilidad de ganar es igual a la probabilidad de perder, es decir quedar primero o segundo. Con esto podemos resolver para la cota superior de X.\n",
    "\n",
    "$$\n",
    "X < \\frac{1}{2} \\cdot 5 = 2.5\n",
    "$$\n",
    "\n",
    "Es decir las las apuestas de los jugadores deben estar acotadas superiormente por 2.50 euros.\n"
   ]
  },
  {
   "metadata": {},
   "cell_type": "markdown",
   "source": [
    "Sin embargo es posible que asumir esto sea demasiado restrictivo, por lo que desarrollaremos el segundo método para comparar resultados.\n",
    "\n",
    "Podemos asumir varias cosas de las funciones de densidad.\n",
    "\n",
    "- Debe existir una relacion entre ambas ya que la $ P_{\\text{perder}}(X) $ mia debe ser igual a la $ P_{\\text{ganar}}(X + incremento) $ de el jugador que me gane, ya que solo pierdo si un jugador apuesta mas que yo y nadie apuesta mas que el.\n",
    "- vamos a fijar este incremente como 0.20 asumiendo de este modo que la diferencias en las apuestas de el que gana y el que pierde es del incremento mínimo algo que es muy común en las subastas.\n",
    "- Entonces conseguirmos expresar $ P_{\\text{perder}}(X) = P_{\\text{ganar}}(X + 0.20)$ \n",
    "- Se debe alcanzar la probabilidad de cero si se apuesta 0 y la probabilidad de 1 si se apuestan 5 euros, asumiendo que nadie va a apostar teniendo la garantia de perder dinero.\n",
    "\n"
   ]
  },
  {
   "metadata": {
    "ExecuteTime": {
     "end_time": "2024-11-24T23:27:50.647091900Z",
     "start_time": "2024-11-24T23:04:49.008782Z"
    }
   },
   "cell_type": "code",
   "source": [
    "import matplotlib.pyplot as plt\n",
    "import numpy as np\n",
    "\n",
    "def p_ganar_lineal(x):\n",
    "    if x < 0:\n",
    "        return 0\n",
    "    if 0 <= x <= 5:\n",
    "        return x / 5\n",
    "    else:\n",
    "        return 1\n",
    "    \n",
    "plt.plot(np.linspace(-1, 6, 100), list(map(p_ganar_lineal, np.linspace(-1, 6, 100))))"
   ],
   "outputs": [
    {
     "data": {
      "text/plain": [
       "[<matplotlib.lines.Line2D at 0x1ae9a289c70>]"
      ]
     },
     "execution_count": 475,
     "metadata": {},
     "output_type": "execute_result"
    },
    {
     "data": {
      "text/plain": [
       "<Figure size 640x480 with 1 Axes>"
      ],
      "image/png": "[encoded data removed]"
     },
     "metadata": {},
     "output_type": "display_data"
    }
   ],
   "execution_count": 475
  },
  {
   "metadata": {
    "ExecuteTime": {
     "end_time": "2024-11-24T23:27:50.648096100Z",
     "start_time": "2024-11-24T23:04:49.416691Z"
    }
   },
   "cell_type": "code",
   "source": [
    "from scipy.optimize import root\n",
    "\n",
    "# Función P_perder\n",
    "def p_perder(x, p_ganar):\n",
    "    return p_ganar(x + 0.2)\n",
    "\n",
    "# Calcular la cota superior\n",
    "def cota_superior_apuesta(p_ganar):\n",
    "    # La función objetivo que queremos anular\n",
    "    def fun(x):\n",
    "        return (5 * p_ganar(x)) / (p_ganar(x) + p_perder(x, p_ganar)) - x\n",
    "\n",
    "    # Resolver la raíz\n",
    "    sol = root(fun, x0=[1])  # x0 es el punto inicial\n",
    "    return sol\n",
    "\n",
    "def printear_cota_superior(p_ganar):\n",
    "\n",
    "    # Llamada a la función\n",
    "    resultado = cota_superior_apuesta(p_ganar)\n",
    "    \n",
    "    # Imprimir el resultado\n",
    "    if resultado.success:\n",
    "        print(f\"Cota superior encontrada: {resultado.x[0]}\")\n",
    "    else:\n",
    "        print(\"No se encontró una solución.\")"
   ],
   "outputs": [],
   "execution_count": 476
  },
  {
   "metadata": {},
   "cell_type": "markdown",
   "source": [
    "proponemos otra funcion que quizas se aguste mas a la real, a la cual llegamos jugando con interoplacion de legrange en geogebra.\n",
    "\n",
    "<img src=\"img.png\">"
   ]
  },
  {
   "metadata": {
    "ExecuteTime": {
     "end_time": "2024-11-24T23:27:50.648096100Z",
     "start_time": "2024-11-24T23:04:49.458211Z"
    }
   },
   "cell_type": "code",
   "source": [
    "def p_ganar_personalizado(x):\n",
    "    def expr(x):\n",
    "        a, b = 13, -2\n",
    "        return (x * (x - a)) / (5 * (5 - a)) + b * (x * (x - 5)) / (a * (a - 5))\n",
    "    if x < 0:\n",
    "        return 0\n",
    "    if 0 <= x <= 5:\n",
    "        valor = expr(x)\n",
    "        \n",
    "        if valor >= 1:\n",
    "            return 1\n",
    "        else:\n",
    "            return valor\n",
    "    else:\n",
    "        return 1\n",
    "    \n",
    "plt.plot(np.linspace(-1, 6, 100), list(map(p_ganar_personalizado, np.linspace(-1, 6, 100))))"
   ],
   "outputs": [
    {
     "data": {
      "text/plain": [
       "[<matplotlib.lines.Line2D at 0x1ae99aaa150>]"
      ]
     },
     "execution_count": 477,
     "metadata": {},
     "output_type": "execute_result"
    },
    {
     "data": {
      "text/plain": [
       "<Figure size 640x480 with 1 Axes>"
      ],
      "image/png": "[encoded data removed]"
     },
     "metadata": {},
     "output_type": "display_data"
    }
   ],
   "execution_count": 477
  },
  {
   "metadata": {
    "ExecuteTime": {
     "end_time": "2024-11-24T23:27:50.648096100Z",
     "start_time": "2024-11-24T23:04:49.560527Z"
    }
   },
   "cell_type": "code",
   "source": "printear_cota_superior(p_ganar_personalizado)",
   "outputs": [
    {
     "name": "stdout",
     "output_type": "stream",
     "text": [
      "Cota superior encontrada: 2.437225210369047\n"
     ]
    }
   ],
   "execution_count": 478
  },
  {
   "metadata": {},
   "cell_type": "markdown",
   "source": [
    "## Solucion propuesta:\n",
    "Los tres métodos han llegado a resultados muy cercanos, nos vamos a quedar con la últimas de las soluciones y vamos a decir que última puja será de 2.40 y como estamos asumiendo una diferencia de 20 céntimos entre esta y la penúltima, el resultado final es de 4.60 euros que se pagaran por el billete."
   ]
  },
  {
   "cell_type": "markdown",
   "metadata": {},
   "source": [
    "------------------\n",
    "## Caso 5 — Experimento físico\n",
    "\n",
    "En clase se describirá un experimento físico que se llevará a cabo el día 28 de noviembre. Presta atención a los datos dados y a la variable a predecir.\n"
   ]
  },
  {
   "cell_type": "code",
   "metadata": {
    "ExecuteTime": {
     "end_time": "2024-11-24T23:27:50.648096100Z",
     "start_time": "2024-11-24T23:04:49.582201Z"
    }
   },
   "source": "",
   "outputs": [],
   "execution_count": null
  },
  {
   "cell_type": "markdown",
   "metadata": {},
   "source": [
    "------------------\n",
    "## Caso 6 — Predicción deportiva\n",
    "\n",
    "El fin de semana del 29 Nov - 1 Dic se juega el partido O. Lyon vs Niza (*Ligue 1*, Francia). Tu objetivo es predecir el **número de corners que sacará el Niza** en ese partido. Tienes a tu disposición muchos datos históricos, por ejemplo en [esta web](https://www.football-data.co.uk/data.php)."
   ]
  },
  {
   "cell_type": "code",
   "metadata": {
    "ExecuteTime": {
     "end_time": "2024-11-24T23:27:50.648096100Z",
     "start_time": "2024-11-24T23:04:49.604923Z"
    }
   },
   "source": [],
   "outputs": [],
   "execution_count": null
  }
 ],
 "metadata": {
  "kernelspec": {
   "display_name": ".venv",
   "language": "python",
   "name": "python3"
  },
  "language_info": {
   "codemirror_mode": {
    "name": "ipython",
    "version": 3
   },
   "file_extension": ".py",
   "mimetype": "text/x-python",
   "name": "python",
   "nbconvert_exporter": "python",
   "pygments_lexer": "ipython3",
   "version": "3.12.6"
  }
 },
 "nbformat": 4,
 "nbformat_minor": 2
}
