{
 "cells": [
  {
   "cell_type": "markdown",
   "metadata": {},
   "source": [
    "# Práctica 2 — Campeonato de predicción\n",
    "\n",
    "A continuación se presentan 6 escenarios distintos, 6 casos de estudio donde, dados unos datos y/o condiciones, se te pedirá que realices una estimación o predicción sobre una variable. \n",
    "\n",
    "Puedes utilizar los conceptos vistos en el curso para resolver alguno de los casos propuestos, pero te recomiendo que no te limites a los métodos estudiados en esta asignatura. La práctica tiene un alto componente exploratorio y de investigación, los problemas son deliberadamente abiertos y no estructurados para permitir varios enfoques. Sé creativo.\n",
    "\n",
    "Para resolver esta práctica, puedes utilizar cualquier módulo externo, usar IAs para inspirarte, buscar problemas análogos online, etc. Todo está permitido. Eso sí, asegúrate de que justificas bien tus decisiones, en particular, los métodos o algoritmos que vas a usar para obtener cada una de las predicciones. Recuerda también citar tus fuentes."
   ]
  },
  {
   "cell_type": "markdown",
   "metadata": {},
   "source": [
    "\n",
    "### Instrucciones para la entrega\n",
    "\n",
    "La práctica puede realizarse en grupos de dos personas como máximo. Debe subirse a Moodle antes de las **23:59 del 20 de Noviembre de 2024**. Aunque desarrolles la práctica en grupo, cada miembro del grupo debe realizar la entrega individualmente. Entrega este mismo documento (el ```ipynb```) relleno con tus argumentos y respuestas. En particular, asegúrate de que describes con precisión tu proceso exploratorio hasta llegar a la solución final propuesta. No valen respuestas del tipo \"*He usado este algoritmo porque me lo ha dicho ChatGPT*\". Debes experimentar con el método que propones, compararlo con otros, argumentar por qué funciona en el contexto planteado, por qué no has usado otros métodos, etc. En la entrega, incluye todas las pruebas que hagas, incluso con algoritmos o métodos que finalmente hayas descartado. Piensa en este *notebook* como una especie de *diario de investigación* donde vayas reflejando tus experimentos.\n",
    "\n",
    "Además, debes rellenar la siguiente celda, para dejar claras tus predicciones para los 6 escenarios:"
   ]
  },
  {
   "cell_type": "code",
   "metadata": {
    "ExecuteTime": {
     "end_time": "2024-11-25T14:45:54.251162Z",
     "start_time": "2024-11-25T14:45:54.248514Z"
    }
   },
   "source": [
    "# RESPUESTAS: Predicciones/estimaciones. Rellena cada fila con un único valor numérico\n",
    "# 1.\n",
    "# 2.\n",
    "# 3.\n",
    "# 4.\n",
    "# 5.\n",
    "# 6."
   ],
   "outputs": [],
   "execution_count": 84
  },
  {
   "cell_type": "markdown",
   "metadata": {},
   "source": [
    "### Evaluación\n",
    "\n",
    "Se tendrán en cuenta las siguientes consideraciones a la hora de evaluar la práctica:\n",
    " 1. Idoneidad de los método predictivos propuestos.\n",
    " 2. Experimentación suficiente y rigurosa.\n",
    " 3. Discusión crítica de resultados.\n",
    " 4. Limpieza de código y estilo.\n",
    " 5. Citas y referencias apropiadas.\n",
    "\n",
    "Además, si resultas ganador del campeonato, obtendrás **1.5 puntos extra** en la nota de esta práctica (pudiendo obtener una nota superior a 10).\n",
    "\n",
    "### Reglas del campeonato\n",
    "\n",
    "Se evaluará cada caso independientemente. Para cada caso, se hará un ranking con todos los participantes, ordenándolos de menor a mayor error en las predicciones realizadas en comparación con el valor exacto. En cada caso, el primer clasificado obtendrá 5 puntos, el segundo 3 y el tercero 1. Ganará el campeonato el grupo que más puntos acumule en los 6 casos."
   ]
  },
  {
   "cell_type": "markdown",
   "metadata": {},
   "source": [
    "------------------\n",
    "## Caso 1 — Serie temporal de una variable econométrica"
   ]
  },
  {
   "cell_type": "markdown",
   "metadata": {},
   "source": [
    "El siguiente archivo ( ```csv```) contiene la evolución temporal de una variable econométrica:\n",
    "\n",
    "[Descarga estos datos](https://drive.upm.es/s/to88gulrpHxLxjB/download)\n",
    "\n",
    "Los datos incluyen dos columnas. La primera es una fecha (tiempo), y la segunda es el valor econométrico a estudiar. Crea un modelo predictivo y predice el valor de la variable econométrica a fecha 1 de enero de 2023."
   ]
  },
  {
   "metadata": {
    "ExecuteTime": {
     "end_time": "2024-11-25T14:45:54.288335Z",
     "start_time": "2024-11-25T14:45:54.284694Z"
    }
   },
   "cell_type": "code",
   "source": [
    "import pandas as pd\n",
    "import numpy as np\n",
    "import tensorflow as tf\n",
    "from sklearn.preprocessing import MinMaxScaler\n",
    "from sklearn.model_selection import train_test_split\n",
    "from tensorflow.keras.models import Sequential\n",
    "from tensorflow.keras.layers import Dense, LSTM\n",
    "import matplotlib.pyplot as plt\n"
   ],
   "outputs": [],
   "execution_count": 85
  },
  {
   "metadata": {
    "ExecuteTime": {
     "end_time": "2024-11-25T14:45:54.327706Z",
     "start_time": "2024-11-25T14:45:54.313332Z"
    }
   },
   "cell_type": "code",
   "source": [
    "#leer csv\n",
    "\n",
    "ruta_datos = \"forecast_data.csv\"\n",
    "data = pd.read_csv(ruta_datos)\n",
    "\n",
    "#Preprocesado de values\n",
    "\n",
    "\n",
    "values = data['value'].values.reshape(-1, 1)\n",
    "value_scaler = MinMaxScaler(feature_range=(0, 1))\n",
    "scaled_values = value_scaler.fit_transform(values)"
   ],
   "outputs": [],
   "execution_count": 86
  },
  {
   "metadata": {
    "ExecuteTime": {
     "end_time": "2024-11-25T14:45:54.383944Z",
     "start_time": "2024-11-25T14:45:54.377004Z"
    }
   },
   "cell_type": "code",
   "source": [
    "#Preprocesado de dates\n",
    "\n",
    "data['date'] = pd.to_datetime(data['date'])\n",
    "dates = data['date']\n",
    "\n",
    "timpe_stamps = data.date.astype('int64').values.reshape(-1, 1)\n",
    "\n",
    "date_scaler = MinMaxScaler(feature_range=(0, 1))\n",
    "scaled_dates = date_scaler.fit_transform(timpe_stamps)"
   ],
   "outputs": [],
   "execution_count": 87
  },
  {
   "metadata": {
    "ExecuteTime": {
     "end_time": "2024-11-25T14:45:54.399708Z",
     "start_time": "2024-11-25T14:45:54.394953Z"
    }
   },
   "cell_type": "code",
   "source": [
    "#generacion de matrices de entrenamiento\n",
    "\n",
    "X = scaled_dates\n",
    "y = scaled_values\n",
    "\n",
    "X_train, X_test, y_train, y_test = train_test_split(X, y, test_size=0.2, random_state=0)"
   ],
   "outputs": [],
   "execution_count": 88
  },
  {
   "metadata": {
    "ExecuteTime": {
     "end_time": "2024-11-25T14:45:58.530263Z",
     "start_time": "2024-11-25T14:45:54.431658Z"
    }
   },
   "cell_type": "code",
   "source": [
    "import tensorflow as tf\n",
    "from tensorflow.keras.models import Sequential\n",
    "from tensorflow.keras.layers import Dense, LSTM, Dropout\n",
    "\n",
    "# Configuración del modelo\n",
    "model = Sequential([\n",
    "    Dense(64, activation='relu', input_shape=(X_train.shape[1],)),\n",
    "    Dense(32, activation='relu'),\n",
    "    Dense(1)  # Capa de salida para un único valor de predicción\n",
    "])\n",
    "\n",
    "# Compilación del modelo\n",
    "model.compile(optimizer='adam', loss='mse', metrics=['mae'])\n",
    "\n",
    "# Entrenamiento\n",
    "history = model.fit(\n",
    "    X_train, y_train,\n",
    "    validation_data=(X_test, y_test),\n",
    "    epochs=50,\n",
    "    batch_size=32,\n",
    "    verbose=1\n",
    ")"
   ],
   "outputs": [
    {
     "name": "stdout",
     "output_type": "stream",
     "text": [
      "Epoch 1/50\n"
     ]
    },
    {
     "name": "stderr",
     "output_type": "stream",
     "text": [
      "C:\\Users\\iocol\\Desktop\\ALN_practica_2\\.venv\\Lib\\site-packages\\keras\\src\\layers\\core\\dense.py:87: UserWarning: Do not pass an `input_shape`/`input_dim` argument to a layer. When using Sequential models, prefer using an `Input(shape)` object as the first layer in the model instead.\n",
      "  super().__init__(activity_regularizer=activity_regularizer, **kwargs)\n"
     ]
    },
    {
     "name": "stdout",
     "output_type": "stream",
     "text": [
      "\u001B[1m19/19\u001B[0m \u001B[32m━━━━━━━━━━━━━━━━━━━━\u001B[0m\u001B[37m\u001B[0m \u001B[1m1s\u001B[0m 8ms/step - loss: 0.2200 - mae: 0.4068 - val_loss: 0.1039 - val_mae: 0.2595\n",
      "Epoch 2/50\n",
      "\u001B[1m19/19\u001B[0m \u001B[32m━━━━━━━━━━━━━━━━━━━━\u001B[0m\u001B[37m\u001B[0m \u001B[1m0s\u001B[0m 2ms/step - loss: 0.1047 - mae: 0.2634 - val_loss: 0.0811 - val_mae: 0.2310\n",
      "Epoch 3/50\n",
      "\u001B[1m19/19\u001B[0m \u001B[32m━━━━━━━━━━━━━━━━━━━━\u001B[0m\u001B[37m\u001B[0m \u001B[1m0s\u001B[0m 2ms/step - loss: 0.0825 - mae: 0.2342 - val_loss: 0.0574 - val_mae: 0.1971\n",
      "Epoch 4/50\n",
      "\u001B[1m19/19\u001B[0m \u001B[32m━━━━━━━━━━━━━━━━━━━━\u001B[0m\u001B[37m\u001B[0m \u001B[1m0s\u001B[0m 2ms/step - loss: 0.0570 - mae: 0.1968 - val_loss: 0.0424 - val_mae: 0.1711\n",
      "Epoch 5/50\n",
      "\u001B[1m19/19\u001B[0m \u001B[32m━━━━━━━━━━━━━━━━━━━━\u001B[0m\u001B[37m\u001B[0m \u001B[1m0s\u001B[0m 2ms/step - loss: 0.0408 - mae: 0.1671 - val_loss: 0.0327 - val_mae: 0.1496\n",
      "Epoch 6/50\n",
      "\u001B[1m19/19\u001B[0m \u001B[32m━━━━━━━━━━━━━━━━━━━━\u001B[0m\u001B[37m\u001B[0m \u001B[1m0s\u001B[0m 2ms/step - loss: 0.0323 - mae: 0.1506 - val_loss: 0.0256 - val_mae: 0.1299\n",
      "Epoch 7/50\n",
      "\u001B[1m19/19\u001B[0m \u001B[32m━━━━━━━━━━━━━━━━━━━━\u001B[0m\u001B[37m\u001B[0m \u001B[1m0s\u001B[0m 2ms/step - loss: 0.0232 - mae: 0.1271 - val_loss: 0.0235 - val_mae: 0.1240\n",
      "Epoch 8/50\n",
      "\u001B[1m19/19\u001B[0m \u001B[32m━━━━━━━━━━━━━━━━━━━━\u001B[0m\u001B[37m\u001B[0m \u001B[1m0s\u001B[0m 2ms/step - loss: 0.0216 - mae: 0.1227 - val_loss: 0.0220 - val_mae: 0.1203\n",
      "Epoch 9/50\n",
      "\u001B[1m19/19\u001B[0m \u001B[32m━━━━━━━━━━━━━━━━━━━━\u001B[0m\u001B[37m\u001B[0m \u001B[1m0s\u001B[0m 2ms/step - loss: 0.0218 - mae: 0.1230 - val_loss: 0.0219 - val_mae: 0.1191\n",
      "Epoch 10/50\n",
      "\u001B[1m19/19\u001B[0m \u001B[32m━━━━━━━━━━━━━━━━━━━━\u001B[0m\u001B[37m\u001B[0m \u001B[1m0s\u001B[0m 2ms/step - loss: 0.0208 - mae: 0.1174 - val_loss: 0.0220 - val_mae: 0.1202\n",
      "Epoch 11/50\n",
      "\u001B[1m19/19\u001B[0m \u001B[32m━━━━━━━━━━━━━━━━━━━━\u001B[0m\u001B[37m\u001B[0m \u001B[1m0s\u001B[0m 2ms/step - loss: 0.0223 - mae: 0.1226 - val_loss: 0.0221 - val_mae: 0.1206\n",
      "Epoch 12/50\n",
      "\u001B[1m19/19\u001B[0m \u001B[32m━━━━━━━━━━━━━━━━━━━━\u001B[0m\u001B[37m\u001B[0m \u001B[1m0s\u001B[0m 2ms/step - loss: 0.0224 - mae: 0.1236 - val_loss: 0.0224 - val_mae: 0.1213\n",
      "Epoch 13/50\n",
      "\u001B[1m19/19\u001B[0m \u001B[32m━━━━━━━━━━━━━━━━━━━━\u001B[0m\u001B[37m\u001B[0m \u001B[1m0s\u001B[0m 2ms/step - loss: 0.0192 - mae: 0.1125 - val_loss: 0.0221 - val_mae: 0.1205\n",
      "Epoch 14/50\n",
      "\u001B[1m19/19\u001B[0m \u001B[32m━━━━━━━━━━━━━━━━━━━━\u001B[0m\u001B[37m\u001B[0m \u001B[1m0s\u001B[0m 2ms/step - loss: 0.0196 - mae: 0.1138 - val_loss: 0.0237 - val_mae: 0.1244\n",
      "Epoch 15/50\n",
      "\u001B[1m19/19\u001B[0m \u001B[32m━━━━━━━━━━━━━━━━━━━━\u001B[0m\u001B[37m\u001B[0m \u001B[1m0s\u001B[0m 2ms/step - loss: 0.0199 - mae: 0.1166 - val_loss: 0.0218 - val_mae: 0.1197\n",
      "Epoch 16/50\n",
      "\u001B[1m19/19\u001B[0m \u001B[32m━━━━━━━━━━━━━━━━━━━━\u001B[0m\u001B[37m\u001B[0m \u001B[1m0s\u001B[0m 2ms/step - loss: 0.0207 - mae: 0.1195 - val_loss: 0.0228 - val_mae: 0.1223\n",
      "Epoch 17/50\n",
      "\u001B[1m19/19\u001B[0m \u001B[32m━━━━━━━━━━━━━━━━━━━━\u001B[0m\u001B[37m\u001B[0m \u001B[1m0s\u001B[0m 2ms/step - loss: 0.0213 - mae: 0.1220 - val_loss: 0.0234 - val_mae: 0.1238\n",
      "Epoch 18/50\n",
      "\u001B[1m19/19\u001B[0m \u001B[32m━━━━━━━━━━━━━━━━━━━━\u001B[0m\u001B[37m\u001B[0m \u001B[1m0s\u001B[0m 2ms/step - loss: 0.0206 - mae: 0.1175 - val_loss: 0.0231 - val_mae: 0.1232\n",
      "Epoch 19/50\n",
      "\u001B[1m19/19\u001B[0m \u001B[32m━━━━━━━━━━━━━━━━━━━━\u001B[0m\u001B[37m\u001B[0m \u001B[1m0s\u001B[0m 2ms/step - loss: 0.0206 - mae: 0.1171 - val_loss: 0.0216 - val_mae: 0.1188\n",
      "Epoch 20/50\n",
      "\u001B[1m19/19\u001B[0m \u001B[32m━━━━━━━━━━━━━━━━━━━━\u001B[0m\u001B[37m\u001B[0m \u001B[1m0s\u001B[0m 2ms/step - loss: 0.0207 - mae: 0.1178 - val_loss: 0.0220 - val_mae: 0.1205\n",
      "Epoch 21/50\n",
      "\u001B[1m19/19\u001B[0m \u001B[32m━━━━━━━━━━━━━━━━━━━━\u001B[0m\u001B[37m\u001B[0m \u001B[1m0s\u001B[0m 2ms/step - loss: 0.0206 - mae: 0.1184 - val_loss: 0.0230 - val_mae: 0.1229\n",
      "Epoch 22/50\n",
      "\u001B[1m19/19\u001B[0m \u001B[32m━━━━━━━━━━━━━━━━━━━━\u001B[0m\u001B[37m\u001B[0m \u001B[1m0s\u001B[0m 2ms/step - loss: 0.0210 - mae: 0.1186 - val_loss: 0.0250 - val_mae: 0.1275\n",
      "Epoch 23/50\n",
      "\u001B[1m19/19\u001B[0m \u001B[32m━━━━━━━━━━━━━━━━━━━━\u001B[0m\u001B[37m\u001B[0m \u001B[1m0s\u001B[0m 2ms/step - loss: 0.0215 - mae: 0.1217 - val_loss: 0.0236 - val_mae: 0.1242\n",
      "Epoch 24/50\n",
      "\u001B[1m19/19\u001B[0m \u001B[32m━━━━━━━━━━━━━━━━━━━━\u001B[0m\u001B[37m\u001B[0m \u001B[1m0s\u001B[0m 2ms/step - loss: 0.0219 - mae: 0.1234 - val_loss: 0.0226 - val_mae: 0.1218\n",
      "Epoch 25/50\n",
      "\u001B[1m19/19\u001B[0m \u001B[32m━━━━━━━━━━━━━━━━━━━━\u001B[0m\u001B[37m\u001B[0m \u001B[1m0s\u001B[0m 2ms/step - loss: 0.0210 - mae: 0.1200 - val_loss: 0.0220 - val_mae: 0.1203\n",
      "Epoch 26/50\n",
      "\u001B[1m19/19\u001B[0m \u001B[32m━━━━━━━━━━━━━━━━━━━━\u001B[0m\u001B[37m\u001B[0m \u001B[1m0s\u001B[0m 2ms/step - loss: 0.0216 - mae: 0.1195 - val_loss: 0.0231 - val_mae: 0.1231\n",
      "Epoch 27/50\n",
      "\u001B[1m19/19\u001B[0m \u001B[32m━━━━━━━━━━━━━━━━━━━━\u001B[0m\u001B[37m\u001B[0m \u001B[1m0s\u001B[0m 2ms/step - loss: 0.0204 - mae: 0.1170 - val_loss: 0.0234 - val_mae: 0.1239\n",
      "Epoch 28/50\n",
      "\u001B[1m19/19\u001B[0m \u001B[32m━━━━━━━━━━━━━━━━━━━━\u001B[0m\u001B[37m\u001B[0m \u001B[1m0s\u001B[0m 2ms/step - loss: 0.0192 - mae: 0.1126 - val_loss: 0.0222 - val_mae: 0.1198\n",
      "Epoch 29/50\n",
      "\u001B[1m19/19\u001B[0m \u001B[32m━━━━━━━━━━━━━━━━━━━━\u001B[0m\u001B[37m\u001B[0m \u001B[1m0s\u001B[0m 2ms/step - loss: 0.0221 - mae: 0.1199 - val_loss: 0.0216 - val_mae: 0.1190\n",
      "Epoch 30/50\n",
      "\u001B[1m19/19\u001B[0m \u001B[32m━━━━━━━━━━━━━━━━━━━━\u001B[0m\u001B[37m\u001B[0m \u001B[1m0s\u001B[0m 2ms/step - loss: 0.0208 - mae: 0.1184 - val_loss: 0.0218 - val_mae: 0.1198\n",
      "Epoch 31/50\n",
      "\u001B[1m19/19\u001B[0m \u001B[32m━━━━━━━━━━━━━━━━━━━━\u001B[0m\u001B[37m\u001B[0m \u001B[1m0s\u001B[0m 2ms/step - loss: 0.0200 - mae: 0.1160 - val_loss: 0.0231 - val_mae: 0.1232\n",
      "Epoch 32/50\n",
      "\u001B[1m19/19\u001B[0m \u001B[32m━━━━━━━━━━━━━━━━━━━━\u001B[0m\u001B[37m\u001B[0m \u001B[1m0s\u001B[0m 2ms/step - loss: 0.0197 - mae: 0.1148 - val_loss: 0.0223 - val_mae: 0.1212\n",
      "Epoch 33/50\n",
      "\u001B[1m19/19\u001B[0m \u001B[32m━━━━━━━━━━━━━━━━━━━━\u001B[0m\u001B[37m\u001B[0m \u001B[1m0s\u001B[0m 2ms/step - loss: 0.0209 - mae: 0.1193 - val_loss: 0.0218 - val_mae: 0.1198\n",
      "Epoch 34/50\n",
      "\u001B[1m19/19\u001B[0m \u001B[32m━━━━━━━━━━━━━━━━━━━━\u001B[0m\u001B[37m\u001B[0m \u001B[1m0s\u001B[0m 2ms/step - loss: 0.0202 - mae: 0.1152 - val_loss: 0.0219 - val_mae: 0.1201\n",
      "Epoch 35/50\n",
      "\u001B[1m19/19\u001B[0m \u001B[32m━━━━━━━━━━━━━━━━━━━━\u001B[0m\u001B[37m\u001B[0m \u001B[1m0s\u001B[0m 2ms/step - loss: 0.0216 - mae: 0.1206 - val_loss: 0.0219 - val_mae: 0.1193\n",
      "Epoch 36/50\n",
      "\u001B[1m19/19\u001B[0m \u001B[32m━━━━━━━━━━━━━━━━━━━━\u001B[0m\u001B[37m\u001B[0m \u001B[1m0s\u001B[0m 2ms/step - loss: 0.0212 - mae: 0.1197 - val_loss: 0.0219 - val_mae: 0.1192\n",
      "Epoch 37/50\n",
      "\u001B[1m19/19\u001B[0m \u001B[32m━━━━━━━━━━━━━━━━━━━━\u001B[0m\u001B[37m\u001B[0m \u001B[1m0s\u001B[0m 2ms/step - loss: 0.0225 - mae: 0.1218 - val_loss: 0.0224 - val_mae: 0.1202\n",
      "Epoch 38/50\n",
      "\u001B[1m19/19\u001B[0m \u001B[32m━━━━━━━━━━━━━━━━━━━━\u001B[0m\u001B[37m\u001B[0m \u001B[1m0s\u001B[0m 2ms/step - loss: 0.0214 - mae: 0.1195 - val_loss: 0.0216 - val_mae: 0.1186\n",
      "Epoch 39/50\n",
      "\u001B[1m19/19\u001B[0m \u001B[32m━━━━━━━━━━━━━━━━━━━━\u001B[0m\u001B[37m\u001B[0m \u001B[1m0s\u001B[0m 2ms/step - loss: 0.0207 - mae: 0.1179 - val_loss: 0.0222 - val_mae: 0.1208\n",
      "Epoch 40/50\n",
      "\u001B[1m19/19\u001B[0m \u001B[32m━━━━━━━━━━━━━━━━━━━━\u001B[0m\u001B[37m\u001B[0m \u001B[1m0s\u001B[0m 2ms/step - loss: 0.0192 - mae: 0.1119 - val_loss: 0.0222 - val_mae: 0.1208\n",
      "Epoch 41/50\n",
      "\u001B[1m19/19\u001B[0m \u001B[32m━━━━━━━━━━━━━━━━━━━━\u001B[0m\u001B[37m\u001B[0m \u001B[1m0s\u001B[0m 2ms/step - loss: 0.0198 - mae: 0.1130 - val_loss: 0.0223 - val_mae: 0.1212\n",
      "Epoch 42/50\n",
      "\u001B[1m19/19\u001B[0m \u001B[32m━━━━━━━━━━━━━━━━━━━━\u001B[0m\u001B[37m\u001B[0m \u001B[1m0s\u001B[0m 2ms/step - loss: 0.0224 - mae: 0.1247 - val_loss: 0.0216 - val_mae: 0.1188\n",
      "Epoch 43/50\n",
      "\u001B[1m19/19\u001B[0m \u001B[32m━━━━━━━━━━━━━━━━━━━━\u001B[0m\u001B[37m\u001B[0m \u001B[1m0s\u001B[0m 2ms/step - loss: 0.0194 - mae: 0.1140 - val_loss: 0.0220 - val_mae: 0.1202\n",
      "Epoch 44/50\n",
      "\u001B[1m19/19\u001B[0m \u001B[32m━━━━━━━━━━━━━━━━━━━━\u001B[0m\u001B[37m\u001B[0m \u001B[1m0s\u001B[0m 2ms/step - loss: 0.0197 - mae: 0.1146 - val_loss: 0.0225 - val_mae: 0.1217\n",
      "Epoch 45/50\n",
      "\u001B[1m19/19\u001B[0m \u001B[32m━━━━━━━━━━━━━━━━━━━━\u001B[0m\u001B[37m\u001B[0m \u001B[1m0s\u001B[0m 2ms/step - loss: 0.0209 - mae: 0.1196 - val_loss: 0.0231 - val_mae: 0.1232\n",
      "Epoch 46/50\n",
      "\u001B[1m19/19\u001B[0m \u001B[32m━━━━━━━━━━━━━━━━━━━━\u001B[0m\u001B[37m\u001B[0m \u001B[1m0s\u001B[0m 2ms/step - loss: 0.0200 - mae: 0.1149 - val_loss: 0.0219 - val_mae: 0.1200\n",
      "Epoch 47/50\n",
      "\u001B[1m19/19\u001B[0m \u001B[32m━━━━━━━━━━━━━━━━━━━━\u001B[0m\u001B[37m\u001B[0m \u001B[1m0s\u001B[0m 2ms/step - loss: 0.0193 - mae: 0.1115 - val_loss: 0.0216 - val_mae: 0.1191\n",
      "Epoch 48/50\n",
      "\u001B[1m19/19\u001B[0m \u001B[32m━━━━━━━━━━━━━━━━━━━━\u001B[0m\u001B[37m\u001B[0m \u001B[1m0s\u001B[0m 2ms/step - loss: 0.0220 - mae: 0.1216 - val_loss: 0.0218 - val_mae: 0.1198\n",
      "Epoch 49/50\n",
      "\u001B[1m19/19\u001B[0m \u001B[32m━━━━━━━━━━━━━━━━━━━━\u001B[0m\u001B[37m\u001B[0m \u001B[1m0s\u001B[0m 2ms/step - loss: 0.0201 - mae: 0.1164 - val_loss: 0.0223 - val_mae: 0.1212\n",
      "Epoch 50/50\n",
      "\u001B[1m19/19\u001B[0m \u001B[32m━━━━━━━━━━━━━━━━━━━━\u001B[0m\u001B[37m\u001B[0m \u001B[1m0s\u001B[0m 2ms/step - loss: 0.0204 - mae: 0.1190 - val_loss: 0.0216 - val_mae: 0.1191\n"
     ]
    }
   ],
   "execution_count": 89
  },
  {
   "metadata": {
    "ExecuteTime": {
     "end_time": "2024-11-25T14:45:58.613741Z",
     "start_time": "2024-11-25T14:45:58.561202Z"
    }
   },
   "cell_type": "code",
   "source": [
    "# Evaluación del modelo\n",
    "loss, mae = model.evaluate(X_test, y_test, verbose=0)\n",
    "print(f\"Mean Absolute Error on Test Data: {mae}\")"
   ],
   "outputs": [
    {
     "name": "stdout",
     "output_type": "stream",
     "text": [
      "Mean Absolute Error on Test Data: 0.11908245831727982\n"
     ]
    }
   ],
   "execution_count": 90
  },
  {
   "metadata": {
    "ExecuteTime": {
     "end_time": "2024-11-25T14:45:58.880765Z",
     "start_time": "2024-11-25T14:45:58.644228Z"
    }
   },
   "cell_type": "code",
   "source": [
    "x_original = dates.values\n",
    "y_original = values\n",
    "\n",
    "plt.plot(x_original, y_original)\n",
    "plt.plot(x_original, value_scaler.inverse_transform(model.predict(X)), \"r\")\n"
   ],
   "outputs": [
    {
     "name": "stdout",
     "output_type": "stream",
     "text": [
      "\u001B[1m24/24\u001B[0m \u001B[32m━━━━━━━━━━━━━━━━━━━━\u001B[0m\u001B[37m\u001B[0m \u001B[1m0s\u001B[0m 2ms/step \n"
     ]
    },
    {
     "data": {
      "text/plain": [
       "[<matplotlib.lines.Line2D at 0x20092fd1c40>]"
      ]
     },
     "execution_count": 91,
     "metadata": {},
     "output_type": "execute_result"
    },
    {
     "data": {
      "text/plain": [
       "<Figure size 640x480 with 1 Axes>"
      ],
      "image/png": "[encoded data removed]"
     },
     "metadata": {},
     "output_type": "display_data"
    }
   ],
   "execution_count": 91
  },
  {
   "metadata": {
    "ExecuteTime": {
     "end_time": "2024-11-25T14:45:58.921529Z",
     "start_time": "2024-11-25T14:45:58.915830Z"
    }
   },
   "cell_type": "code",
   "source": [
    "def create_sequences(x, y, n_steps):\n",
    "    sequences = []\n",
    "    targets = []\n",
    "    for i in range(len(data) - n_steps):\n",
    "        seq = x[i:i + n_steps]\n",
    "        target = y[i + n_steps]\n",
    "        sequences.append(seq)\n",
    "        targets.append(target)\n",
    "    return np.array(sequences), np.array(targets)\n",
    "\n",
    "# Parámetro de longitud de la secuencia (ajusta según tus datos)\n",
    "n_steps = 10  # Secuencia de 10 pasos para predecir el siguiente\n",
    "\n",
    "# Crear secuencias para X y y\n",
    "X_sequences, y_sequences = create_sequences(scaled_dates, scaled_values, n_steps)\n",
    "\n",
    "# Dividir en entrenamiento y prueba\n",
    "X_train, X_test, y_train, y_test = train_test_split(\n",
    "    X_sequences, y_sequences, test_size=0.2, random_state=0\n",
    ")\n",
    "\n",
    "# Ajustar la forma para LSTM [samples, time_steps, features]\n",
    "X_train = X_train.reshape((X_train.shape[0], X_train.shape[1], 1))\n",
    "X_test = X_test.reshape((X_test.shape[0], X_test.shape[1], 1))"
   ],
   "outputs": [],
   "execution_count": 92
  },
  {
   "metadata": {
    "ExecuteTime": {
     "end_time": "2024-11-25T14:46:11.258555Z",
     "start_time": "2024-11-25T14:45:58.955318Z"
    }
   },
   "cell_type": "code",
   "source": [
    "# Crear el modelo LSTM\n",
    "model = Sequential([\n",
    "    LSTM(64, return_sequences=True, input_shape=(n_steps, 1)),  # Primera capa LSTM\n",
    "    Dropout(0.2),  # Regularización\n",
    "    LSTM(32, return_sequences=False),  # Segunda capa LSTM\n",
    "    Dense(16, activation='relu'),  # Capa densa para procesar las características\n",
    "    Dense(1)  # Salida para predecir un único valor\n",
    "])\n",
    "\n",
    "# Compilar el modelo\n",
    "model.compile(optimizer='adam', loss='mse', metrics=['mae'])\n",
    "\n",
    "# Entrenar el modelo\n",
    "history = model.fit(\n",
    "    X_train, y_train,\n",
    "    validation_data=(X_test, y_test),\n",
    "    epochs=50,\n",
    "    batch_size=16,\n",
    "    verbose=2\n",
    ")"
   ],
   "outputs": [
    {
     "name": "stdout",
     "output_type": "stream",
     "text": [
      "Epoch 1/50\n"
     ]
    },
    {
     "name": "stderr",
     "output_type": "stream",
     "text": [
      "C:\\Users\\iocol\\Desktop\\ALN_practica_2\\.venv\\Lib\\site-packages\\keras\\src\\layers\\rnn\\rnn.py:204: UserWarning: Do not pass an `input_shape`/`input_dim` argument to a layer. When using Sequential models, prefer using an `Input(shape)` object as the first layer in the model instead.\n",
      "  super().__init__(**kwargs)\n"
     ]
    },
    {
     "name": "stdout",
     "output_type": "stream",
     "text": [
      "37/37 - 2s - 67ms/step - loss: 0.1154 - mae: 0.2743 - val_loss: 0.0374 - val_mae: 0.1581\n",
      "Epoch 2/50\n",
      "37/37 - 0s - 6ms/step - loss: 0.0319 - mae: 0.1471 - val_loss: 0.0171 - val_mae: 0.1047\n",
      "Epoch 3/50\n",
      "37/37 - 0s - 5ms/step - loss: 0.0243 - mae: 0.1295 - val_loss: 0.0175 - val_mae: 0.1059\n",
      "Epoch 4/50\n",
      "37/37 - 0s - 5ms/step - loss: 0.0246 - mae: 0.1299 - val_loss: 0.0172 - val_mae: 0.1048\n",
      "Epoch 5/50\n",
      "37/37 - 0s - 5ms/step - loss: 0.0243 - mae: 0.1300 - val_loss: 0.0184 - val_mae: 0.1083\n",
      "Epoch 6/50\n",
      "37/37 - 0s - 5ms/step - loss: 0.0240 - mae: 0.1289 - val_loss: 0.0225 - val_mae: 0.1210\n",
      "Epoch 7/50\n",
      "37/37 - 0s - 5ms/step - loss: 0.0241 - mae: 0.1292 - val_loss: 0.0165 - val_mae: 0.1022\n",
      "Epoch 8/50\n",
      "37/37 - 0s - 5ms/step - loss: 0.0249 - mae: 0.1303 - val_loss: 0.0233 - val_mae: 0.1227\n",
      "Epoch 9/50\n",
      "37/37 - 0s - 5ms/step - loss: 0.0252 - mae: 0.1301 - val_loss: 0.0193 - val_mae: 0.1112\n",
      "Epoch 10/50\n",
      "37/37 - 0s - 5ms/step - loss: 0.0248 - mae: 0.1304 - val_loss: 0.0188 - val_mae: 0.1096\n",
      "Epoch 11/50\n",
      "37/37 - 0s - 5ms/step - loss: 0.0254 - mae: 0.1327 - val_loss: 0.0189 - val_mae: 0.1103\n",
      "Epoch 12/50\n",
      "37/37 - 0s - 5ms/step - loss: 0.0236 - mae: 0.1283 - val_loss: 0.0170 - val_mae: 0.1029\n",
      "Epoch 13/50\n",
      "37/37 - 0s - 5ms/step - loss: 0.0223 - mae: 0.1227 - val_loss: 0.0161 - val_mae: 0.0994\n",
      "Epoch 14/50\n",
      "37/37 - 0s - 5ms/step - loss: 0.0224 - mae: 0.1239 - val_loss: 0.0155 - val_mae: 0.0979\n",
      "Epoch 15/50\n",
      "37/37 - 0s - 5ms/step - loss: 0.0216 - mae: 0.1217 - val_loss: 0.0152 - val_mae: 0.0970\n",
      "Epoch 16/50\n",
      "37/37 - 0s - 5ms/step - loss: 0.0213 - mae: 0.1223 - val_loss: 0.0172 - val_mae: 0.1046\n",
      "Epoch 17/50\n",
      "37/37 - 0s - 5ms/step - loss: 0.0187 - mae: 0.1118 - val_loss: 0.0121 - val_mae: 0.0878\n",
      "Epoch 18/50\n",
      "37/37 - 0s - 5ms/step - loss: 0.0168 - mae: 0.1053 - val_loss: 0.0114 - val_mae: 0.0885\n",
      "Epoch 19/50\n",
      "37/37 - 0s - 5ms/step - loss: 0.0149 - mae: 0.0979 - val_loss: 0.0090 - val_mae: 0.0775\n",
      "Epoch 20/50\n",
      "37/37 - 0s - 5ms/step - loss: 0.0107 - mae: 0.0830 - val_loss: 0.0101 - val_mae: 0.0821\n",
      "Epoch 21/50\n",
      "37/37 - 0s - 5ms/step - loss: 0.0141 - mae: 0.0944 - val_loss: 0.0118 - val_mae: 0.0904\n",
      "Epoch 22/50\n",
      "37/37 - 0s - 5ms/step - loss: 0.0112 - mae: 0.0840 - val_loss: 0.0121 - val_mae: 0.0937\n",
      "Epoch 23/50\n",
      "37/37 - 0s - 5ms/step - loss: 0.0108 - mae: 0.0843 - val_loss: 0.0107 - val_mae: 0.0828\n",
      "Epoch 24/50\n",
      "37/37 - 0s - 5ms/step - loss: 0.0093 - mae: 0.0785 - val_loss: 0.0080 - val_mae: 0.0740\n",
      "Epoch 25/50\n",
      "37/37 - 0s - 5ms/step - loss: 0.0100 - mae: 0.0816 - val_loss: 0.0079 - val_mae: 0.0688\n",
      "Epoch 26/50\n",
      "37/37 - 0s - 5ms/step - loss: 0.0097 - mae: 0.0793 - val_loss: 0.0093 - val_mae: 0.0735\n",
      "Epoch 27/50\n",
      "37/37 - 0s - 5ms/step - loss: 0.0105 - mae: 0.0824 - val_loss: 0.0087 - val_mae: 0.0755\n",
      "Epoch 28/50\n",
      "37/37 - 0s - 5ms/step - loss: 0.0092 - mae: 0.0782 - val_loss: 0.0079 - val_mae: 0.0702\n",
      "Epoch 29/50\n",
      "37/37 - 0s - 6ms/step - loss: 0.0095 - mae: 0.0800 - val_loss: 0.0077 - val_mae: 0.0690\n",
      "Epoch 30/50\n",
      "37/37 - 0s - 6ms/step - loss: 0.0095 - mae: 0.0803 - val_loss: 0.0089 - val_mae: 0.0725\n",
      "Epoch 31/50\n",
      "37/37 - 0s - 7ms/step - loss: 0.0093 - mae: 0.0791 - val_loss: 0.0093 - val_mae: 0.0783\n",
      "Epoch 32/50\n",
      "37/37 - 0s - 7ms/step - loss: 0.0092 - mae: 0.0785 - val_loss: 0.0077 - val_mae: 0.0711\n",
      "Epoch 33/50\n",
      "37/37 - 0s - 6ms/step - loss: 0.0088 - mae: 0.0770 - val_loss: 0.0082 - val_mae: 0.0729\n",
      "Epoch 34/50\n",
      "37/37 - 0s - 6ms/step - loss: 0.0094 - mae: 0.0786 - val_loss: 0.0077 - val_mae: 0.0698\n",
      "Epoch 35/50\n",
      "37/37 - 0s - 5ms/step - loss: 0.0091 - mae: 0.0775 - val_loss: 0.0080 - val_mae: 0.0717\n",
      "Epoch 36/50\n",
      "37/37 - 0s - 5ms/step - loss: 0.0094 - mae: 0.0793 - val_loss: 0.0097 - val_mae: 0.0760\n",
      "Epoch 37/50\n",
      "37/37 - 0s - 5ms/step - loss: 0.0092 - mae: 0.0792 - val_loss: 0.0092 - val_mae: 0.0756\n",
      "Epoch 38/50\n",
      "37/37 - 0s - 5ms/step - loss: 0.0096 - mae: 0.0802 - val_loss: 0.0081 - val_mae: 0.0741\n",
      "Epoch 39/50\n",
      "37/37 - 0s - 5ms/step - loss: 0.0090 - mae: 0.0770 - val_loss: 0.0081 - val_mae: 0.0717\n",
      "Epoch 40/50\n",
      "37/37 - 0s - 6ms/step - loss: 0.0098 - mae: 0.0805 - val_loss: 0.0080 - val_mae: 0.0697\n",
      "Epoch 41/50\n",
      "37/37 - 0s - 6ms/step - loss: 0.0090 - mae: 0.0778 - val_loss: 0.0093 - val_mae: 0.0777\n",
      "Epoch 42/50\n",
      "37/37 - 0s - 6ms/step - loss: 0.0097 - mae: 0.0792 - val_loss: 0.0084 - val_mae: 0.0719\n",
      "Epoch 43/50\n",
      "37/37 - 0s - 5ms/step - loss: 0.0088 - mae: 0.0760 - val_loss: 0.0073 - val_mae: 0.0673\n",
      "Epoch 44/50\n",
      "37/37 - 0s - 5ms/step - loss: 0.0085 - mae: 0.0750 - val_loss: 0.0087 - val_mae: 0.0732\n",
      "Epoch 45/50\n",
      "37/37 - 0s - 5ms/step - loss: 0.0085 - mae: 0.0754 - val_loss: 0.0080 - val_mae: 0.0708\n",
      "Epoch 46/50\n",
      "37/37 - 0s - 5ms/step - loss: 0.0093 - mae: 0.0797 - val_loss: 0.0099 - val_mae: 0.0795\n",
      "Epoch 47/50\n",
      "37/37 - 0s - 5ms/step - loss: 0.0094 - mae: 0.0801 - val_loss: 0.0082 - val_mae: 0.0721\n",
      "Epoch 48/50\n",
      "37/37 - 0s - 5ms/step - loss: 0.0087 - mae: 0.0765 - val_loss: 0.0075 - val_mae: 0.0677\n",
      "Epoch 49/50\n",
      "37/37 - 0s - 5ms/step - loss: 0.0088 - mae: 0.0762 - val_loss: 0.0101 - val_mae: 0.0769\n",
      "Epoch 50/50\n",
      "37/37 - 0s - 5ms/step - loss: 0.0095 - mae: 0.0801 - val_loss: 0.0088 - val_mae: 0.0754\n"
     ]
    }
   ],
   "execution_count": 93
  },
  {
   "metadata": {
    "ExecuteTime": {
     "end_time": "2024-11-25T14:46:11.299415Z",
     "start_time": "2024-11-25T14:46:11.291518Z"
    }
   },
   "cell_type": "code",
   "source": [
    "import pandas as pd\n",
    "\n",
    "# Generar la secuencia de fechas desde 1985-01-10 hasta 2024-01-01, cada primero de mes\n",
    "start_date = \"1985-01-10\"\n",
    "end_date = \"2024-01-01\"\n",
    "\n",
    "# Generar las fechas usando pd.date_range\n",
    "new_dates = pd.date_range(start=start_date, end=end_date, freq=\"ME\")\n",
    "timpe_stamps = new_dates.astype('int64').values.reshape(-1, 1)\n",
    "new_scaled_dates = date_scaler.transform(timpe_stamps)"
   ],
   "outputs": [],
   "execution_count": 94
  },
  {
   "metadata": {
    "ExecuteTime": {
     "end_time": "2024-11-25T14:46:11.337565Z",
     "start_time": "2024-11-25T14:46:11.333736Z"
    }
   },
   "cell_type": "code",
   "source": "new_dates",
   "outputs": [
    {
     "data": {
      "text/plain": [
       "DatetimeIndex(['1985-01-31', '1985-02-28', '1985-03-31', '1985-04-30',\n",
       "               '1985-05-31', '1985-06-30', '1985-07-31', '1985-08-31',\n",
       "               '1985-09-30', '1985-10-31',\n",
       "               ...\n",
       "               '2023-03-31', '2023-04-30', '2023-05-31', '2023-06-30',\n",
       "               '2023-07-31', '2023-08-31', '2023-09-30', '2023-10-31',\n",
       "               '2023-11-30', '2023-12-31'],\n",
       "              dtype='datetime64[ns]', length=468, freq='ME')"
      ]
     },
     "execution_count": 95,
     "metadata": {},
     "output_type": "execute_result"
    }
   ],
   "execution_count": 95
  },
  {
   "metadata": {
    "ExecuteTime": {
     "end_time": "2024-11-25T14:46:11.375675Z",
     "start_time": "2024-11-25T14:46:11.372905Z"
    }
   },
   "cell_type": "code",
   "source": [
    "def create_sequences(scaled_dates, n_steps):\n",
    "    sequences = []\n",
    "    for i in range(len(scaled_dates) - n_steps):\n",
    "        seq = scaled_dates[i:i + n_steps]\n",
    "        sequences.append(seq)\n",
    "    return np.array(sequences)"
   ],
   "outputs": [],
   "execution_count": 96
  },
  {
   "metadata": {
    "ExecuteTime": {
     "end_time": "2024-11-25T14:46:11.414324Z",
     "start_time": "2024-11-25T14:46:11.411376Z"
    }
   },
   "cell_type": "code",
   "source": "reshaped_new_scaled_dates = create_sequences(new_scaled_dates, n_steps)",
   "outputs": [],
   "execution_count": 97
  },
  {
   "metadata": {
    "ExecuteTime": {
     "end_time": "2024-11-25T14:46:12.263162Z",
     "start_time": "2024-11-25T14:46:11.448669Z"
    }
   },
   "cell_type": "code",
   "source": [
    "plt.plot(x_original, y_original)\n",
    "plt.plot(x_original[n_steps:], value_scaler.inverse_transform(model.predict(X_sequences)), \"r\")\n",
    "plt.plot(new_dates[n_steps:], value_scaler.inverse_transform(model.predict(reshaped_new_scaled_dates)))"
   ],
   "outputs": [
    {
     "name": "stdout",
     "output_type": "stream",
     "text": [
      "\u001B[1m23/23\u001B[0m \u001B[32m━━━━━━━━━━━━━━━━━━━━\u001B[0m\u001B[37m\u001B[0m \u001B[1m1s\u001B[0m 18ms/step\n",
      "\u001B[1m15/15\u001B[0m \u001B[32m━━━━━━━━━━━━━━━━━━━━\u001B[0m\u001B[37m\u001B[0m \u001B[1m0s\u001B[0m 2ms/step \n"
     ]
    },
    {
     "data": {
      "text/plain": [
       "[<matplotlib.lines.Line2D at 0x2008f434e90>]"
      ]
     },
     "execution_count": 98,
     "metadata": {},
     "output_type": "execute_result"
    },
    {
     "data": {
      "text/plain": [
       "<Figure size 640x480 with 1 Axes>"
      ],
      "image/png": "[encoded data removed]"
     },
     "metadata": {},
     "output_type": "display_data"
    }
   ],
   "execution_count": 98
  },
  {
   "cell_type": "markdown",
   "metadata": {},
   "source": [
    "------------------\n",
    "## Caso 2 — Estimación de un área\n",
    "\n",
    "En clase habrás recibido una hoja que contiene un área. La misma hoja contiene información sobre la escala. Realiza una estimación del área encerrada. "
   ]
  },
  {
   "cell_type": "code",
   "metadata": {
    "ExecuteTime": {
     "end_time": "2024-11-25T14:46:12.300786Z",
     "start_time": "2024-11-25T14:46:12.298872Z"
    }
   },
   "source": [],
   "outputs": [],
   "execution_count": null
  },
  {
   "cell_type": "markdown",
   "metadata": {},
   "source": [
    "------------------\n",
    "## Caso 3 — Estimación funcional\n",
    "\n",
    "Observa los siguientes pares de valores $x$, $y$. Predice cuál será el valor asociado a un $x=-0.16$\n",
    "\n",
    "<center>\n",
    "\n",
    "|      $x$      |     $y$      |\n",
    "|-------------|------------|\n",
    "|  0.808      | 1.081      |\n",
    "|  0.087      | 3.166      |\n",
    "| -0.359      | 1.801      |\n",
    "| -0.281      | 1.949      |\n",
    "|  0.257      | 2.024      |\n",
    "|  0.279      | 1.979      |\n",
    "|  0.604      | 1.275      |\n",
    "| -0.303      | 1.880      |\n",
    "|  0.722      | 1.126      |\n",
    "| -0.760      | 1.130      |\n",
    "|  0.407      | 1.627      |\n",
    "|  0.215      | 2.247      |\n",
    "| -0.912      | 1.081      |\n",
    "|  0.013      | 5.006      |\n",
    "| -0.972      | 1.032      |\n",
    "\n",
    "\n",
    "</center>\n"
   ]
  },
  {
   "metadata": {
    "ExecuteTime": {
     "end_time": "2024-11-25T14:46:12.340169Z",
     "start_time": "2024-11-25T14:46:12.336275Z"
    }
   },
   "cell_type": "code",
   "source": [
    "import numpy as np\n",
    "import pandas as pd\n",
    "from scipy.interpolate import CubicSpline\n",
    "from sklearn.linear_model import LinearRegression\n",
    "import matplotlib.pyplot as plt\n",
    "\n",
    "# Datos proporcionados\n",
    "x_vals = np.array([0.808, 0.087, -0.359, -0.281, 0.257, 0.279, 0.604, -0.303, 0.722, -0.760, \n",
    "                   0.407, 0.215, -0.912, 0.013, -0.972])\n",
    "y_vals = np.array([1.081, 3.166, 1.801, 1.949, 2.024, 1.979, 1.275, 1.880, 1.126, 1.130,\n",
    "                   1.627, 2.247, 1.081, 5.006, 1.032])"
   ],
   "outputs": [],
   "execution_count": 99
  },
  {
   "metadata": {
    "ExecuteTime": {
     "end_time": "2024-11-25T14:46:12.466425Z",
     "start_time": "2024-11-25T14:46:12.377154Z"
    }
   },
   "cell_type": "code",
   "source": "plt.plot(x_vals, y_vals, \"ro\")\n",
   "outputs": [
    {
     "data": {
      "text/plain": [
       "[<matplotlib.lines.Line2D at 0x2009167dee0>]"
      ]
     },
     "execution_count": 100,
     "metadata": {},
     "output_type": "execute_result"
    },
    {
     "data": {
      "text/plain": [
       "<Figure size 640x480 with 1 Axes>"
      ],
      "image/png": "[encoded data removed]"
     },
     "metadata": {},
     "output_type": "display_data"
    }
   ],
   "execution_count": 100
  },
  {
   "metadata": {},
   "cell_type": "markdown",
   "source": ""
  },
  {
   "metadata": {
    "ExecuteTime": {
     "end_time": "2024-11-25T14:46:12.505609Z",
     "start_time": "2024-11-25T14:46:12.501812Z"
    }
   },
   "cell_type": "code",
   "source": [
    "import pandas as pd\n",
    "\n",
    "df = pd.DataFrame({\"y_vals\": y_vals, \"x_vals\": x_vals})\n"
   ],
   "outputs": [],
   "execution_count": 101
  },
  {
   "metadata": {
    "ExecuteTime": {
     "end_time": "2024-11-25T14:46:12.546133Z",
     "start_time": "2024-11-25T14:46:12.541507Z"
    }
   },
   "cell_type": "code",
   "source": [
    "grado_minimo_negativo = 5\n",
    "\n",
    "for i in range(2, grado_minimo_negativo + 1):\n",
    "    print(i)\n",
    "    df[f\"x_vals_{i}\"] = abs(df[\"x_vals\"] ** -i)\n",
    "    "
   ],
   "outputs": [
    {
     "name": "stdout",
     "output_type": "stream",
     "text": [
      "2\n",
      "3\n",
      "4\n",
      "5\n"
     ]
    }
   ],
   "execution_count": 102
  },
  {
   "metadata": {
    "ExecuteTime": {
     "end_time": "2024-11-25T14:46:12.593030Z",
     "start_time": "2024-11-25T14:46:12.583871Z"
    }
   },
   "cell_type": "code",
   "source": "df",
   "outputs": [
    {
     "data": {
      "text/plain": [
       "    y_vals  x_vals     x_vals_2       x_vals_3      x_vals_4      x_vals_5\n",
       "0    1.081   0.808     1.531713       1.895684  2.346143e+00  2.903643e+00\n",
       "1    3.166   0.087   132.117849    1518.595967  1.745513e+04  2.006336e+05\n",
       "2    1.801  -0.359     7.759096      21.613080  6.020356e+01  1.676980e+02\n",
       "3    1.949  -0.281    12.664480      45.069324  1.603891e+02  5.707795e+02\n",
       "4    2.024   0.257    15.140275      58.911574  2.292279e+02  8.919374e+02\n",
       "5    1.979   0.279    12.846700      46.045521  1.650377e+02  5.915330e+02\n",
       "6    1.275   0.604     2.741108       4.538258  7.513672e+00  1.243985e+01\n",
       "7    1.880  -0.303    10.892178      35.947783  1.186395e+02  3.915497e+02\n",
       "8    1.126   0.722     1.918340       2.656981  3.680029e+00  5.096993e+00\n",
       "9    1.130  -0.760     1.731302       2.278029  2.997406e+00  3.943956e+00\n",
       "10   1.627   0.407     6.036861      14.832582  3.644369e+01  8.954224e+01\n",
       "11   2.247   0.215    21.633315     100.620071  4.680003e+02  2.176746e+03\n",
       "12   1.081  -0.912     1.202293       1.318304  1.445508e+00  1.584987e+00\n",
       "13   5.006   0.013  5917.159763  455166.135640  3.501278e+07  2.693291e+09\n",
       "14   1.032  -0.972     1.058443       1.088933  1.120302e+00  1.152574e+00"
      ],
      "text/html": [
       "<div>\n",
       "<style scoped>\n",
       "    .dataframe tbody tr th:only-of-type {\n",
       "        vertical-align: middle;\n",
       "    }\n",
       "\n",
       "    .dataframe tbody tr th {\n",
       "        vertical-align: top;\n",
       "    }\n",
       "\n",
       "    .dataframe thead th {\n",
       "        text-align: right;\n",
       "    }\n",
       "</style>\n",
       "<table border=\"1\" class=\"dataframe\">\n",
       "  <thead>\n",
       "    <tr style=\"text-align: right;\">\n",
       "      <th></th>\n",
       "      <th>y_vals</th>\n",
       "      <th>x_vals</th>\n",
       "      <th>x_vals_2</th>\n",
       "      <th>x_vals_3</th>\n",
       "      <th>x_vals_4</th>\n",
       "      <th>x_vals_5</th>\n",
       "    </tr>\n",
       "  </thead>\n",
       "  <tbody>\n",
       "    <tr>\n",
       "      <th>0</th>\n",
       "      <td>1.081</td>\n",
       "      <td>0.808</td>\n",
       "      <td>1.531713</td>\n",
       "      <td>1.895684</td>\n",
       "      <td>2.346143e+00</td>\n",
       "      <td>2.903643e+00</td>\n",
       "    </tr>\n",
       "    <tr>\n",
       "      <th>1</th>\n",
       "      <td>3.166</td>\n",
       "      <td>0.087</td>\n",
       "      <td>132.117849</td>\n",
       "      <td>1518.595967</td>\n",
       "      <td>1.745513e+04</td>\n",
       "      <td>2.006336e+05</td>\n",
       "    </tr>\n",
       "    <tr>\n",
       "      <th>2</th>\n",
       "      <td>1.801</td>\n",
       "      <td>-0.359</td>\n",
       "      <td>7.759096</td>\n",
       "      <td>21.613080</td>\n",
       "      <td>6.020356e+01</td>\n",
       "      <td>1.676980e+02</td>\n",
       "    </tr>\n",
       "    <tr>\n",
       "      <th>3</th>\n",
       "      <td>1.949</td>\n",
       "      <td>-0.281</td>\n",
       "      <td>12.664480</td>\n",
       "      <td>45.069324</td>\n",
       "      <td>1.603891e+02</td>\n",
       "      <td>5.707795e+02</td>\n",
       "    </tr>\n",
       "    <tr>\n",
       "      <th>4</th>\n",
       "      <td>2.024</td>\n",
       "      <td>0.257</td>\n",
       "      <td>15.140275</td>\n",
       "      <td>58.911574</td>\n",
       "      <td>2.292279e+02</td>\n",
       "      <td>8.919374e+02</td>\n",
       "    </tr>\n",
       "    <tr>\n",
       "      <th>5</th>\n",
       "      <td>1.979</td>\n",
       "      <td>0.279</td>\n",
       "      <td>12.846700</td>\n",
       "      <td>46.045521</td>\n",
       "      <td>1.650377e+02</td>\n",
       "      <td>5.915330e+02</td>\n",
       "    </tr>\n",
       "    <tr>\n",
       "      <th>6</th>\n",
       "      <td>1.275</td>\n",
       "      <td>0.604</td>\n",
       "      <td>2.741108</td>\n",
       "      <td>4.538258</td>\n",
       "      <td>7.513672e+00</td>\n",
       "      <td>1.243985e+01</td>\n",
       "    </tr>\n",
       "    <tr>\n",
       "      <th>7</th>\n",
       "      <td>1.880</td>\n",
       "      <td>-0.303</td>\n",
       "      <td>10.892178</td>\n",
       "      <td>35.947783</td>\n",
       "      <td>1.186395e+02</td>\n",
       "      <td>3.915497e+02</td>\n",
       "    </tr>\n",
       "    <tr>\n",
       "      <th>8</th>\n",
       "      <td>1.126</td>\n",
       "      <td>0.722</td>\n",
       "      <td>1.918340</td>\n",
       "      <td>2.656981</td>\n",
       "      <td>3.680029e+00</td>\n",
       "      <td>5.096993e+00</td>\n",
       "    </tr>\n",
       "    <tr>\n",
       "      <th>9</th>\n",
       "      <td>1.130</td>\n",
       "      <td>-0.760</td>\n",
       "      <td>1.731302</td>\n",
       "      <td>2.278029</td>\n",
       "      <td>2.997406e+00</td>\n",
       "      <td>3.943956e+00</td>\n",
       "    </tr>\n",
       "    <tr>\n",
       "      <th>10</th>\n",
       "      <td>1.627</td>\n",
       "      <td>0.407</td>\n",
       "      <td>6.036861</td>\n",
       "      <td>14.832582</td>\n",
       "      <td>3.644369e+01</td>\n",
       "      <td>8.954224e+01</td>\n",
       "    </tr>\n",
       "    <tr>\n",
       "      <th>11</th>\n",
       "      <td>2.247</td>\n",
       "      <td>0.215</td>\n",
       "      <td>21.633315</td>\n",
       "      <td>100.620071</td>\n",
       "      <td>4.680003e+02</td>\n",
       "      <td>2.176746e+03</td>\n",
       "    </tr>\n",
       "    <tr>\n",
       "      <th>12</th>\n",
       "      <td>1.081</td>\n",
       "      <td>-0.912</td>\n",
       "      <td>1.202293</td>\n",
       "      <td>1.318304</td>\n",
       "      <td>1.445508e+00</td>\n",
       "      <td>1.584987e+00</td>\n",
       "    </tr>\n",
       "    <tr>\n",
       "      <th>13</th>\n",
       "      <td>5.006</td>\n",
       "      <td>0.013</td>\n",
       "      <td>5917.159763</td>\n",
       "      <td>455166.135640</td>\n",
       "      <td>3.501278e+07</td>\n",
       "      <td>2.693291e+09</td>\n",
       "    </tr>\n",
       "    <tr>\n",
       "      <th>14</th>\n",
       "      <td>1.032</td>\n",
       "      <td>-0.972</td>\n",
       "      <td>1.058443</td>\n",
       "      <td>1.088933</td>\n",
       "      <td>1.120302e+00</td>\n",
       "      <td>1.152574e+00</td>\n",
       "    </tr>\n",
       "  </tbody>\n",
       "</table>\n",
       "</div>"
      ]
     },
     "execution_count": 103,
     "metadata": {},
     "output_type": "execute_result"
    }
   ],
   "execution_count": 103
  },
  {
   "metadata": {
    "ExecuteTime": {
     "end_time": "2024-11-25T14:46:12.659732Z",
     "start_time": "2024-11-25T14:46:12.654962Z"
    }
   },
   "cell_type": "code",
   "source": "df.columns",
   "outputs": [
    {
     "data": {
      "text/plain": [
       "Index(['y_vals', 'x_vals', 'x_vals_2', 'x_vals_3', 'x_vals_4', 'x_vals_5'], dtype='object')"
      ]
     },
     "execution_count": 104,
     "metadata": {},
     "output_type": "execute_result"
    }
   ],
   "execution_count": 104
  },
  {
   "metadata": {
    "ExecuteTime": {
     "end_time": "2024-11-25T14:46:12.708872Z",
     "start_time": "2024-11-25T14:46:12.701761Z"
    }
   },
   "cell_type": "code",
   "source": [
    "from sklearn.linear_model import LinearRegression\n",
    "\n",
    "regressor = LinearRegression()\n",
    "\n",
    "X = df.iloc[:, 1:].values\n",
    "y = df[['y_vals']].values\n",
    "\n",
    "regressor.fit(X, y)"
   ],
   "outputs": [
    {
     "data": {
      "text/plain": [
       "LinearRegression()"
      ],
      "text/html": [
       "<style>#sk-container-id-2 {\n",
       "  /* Definition of color scheme common for light and dark mode */\n",
       "  --sklearn-color-text: black;\n",
       "  --sklearn-color-line: gray;\n",
       "  /* Definition of color scheme for unfitted estimators */\n",
       "  --sklearn-color-unfitted-level-0: #fff5e6;\n",
       "  --sklearn-color-unfitted-level-1: #f6e4d2;\n",
       "  --sklearn-color-unfitted-level-2: #ffe0b3;\n",
       "  --sklearn-color-unfitted-level-3: chocolate;\n",
       "  /* Definition of color scheme for fitted estimators */\n",
       "  --sklearn-color-fitted-level-0: #f0f8ff;\n",
       "  --sklearn-color-fitted-level-1: #d4ebff;\n",
       "  --sklearn-color-fitted-level-2: #b3dbfd;\n",
       "  --sklearn-color-fitted-level-3: cornflowerblue;\n",
       "\n",
       "  /* Specific color for light theme */\n",
       "  --sklearn-color-text-on-default-background: var(--sg-text-color, var(--theme-code-foreground, var(--jp-content-font-color1, black)));\n",
       "  --sklearn-color-background: var(--sg-background-color, var(--theme-background, var(--jp-layout-color0, white)));\n",
       "  --sklearn-color-border-box: var(--sg-text-color, var(--theme-code-foreground, var(--jp-content-font-color1, black)));\n",
       "  --sklearn-color-icon: #696969;\n",
       "\n",
       "  @media (prefers-color-scheme: dark) {\n",
       "    /* Redefinition of color scheme for dark theme */\n",
       "    --sklearn-color-text-on-default-background: var(--sg-text-color, var(--theme-code-foreground, var(--jp-content-font-color1, white)));\n",
       "    --sklearn-color-background: var(--sg-background-color, var(--theme-background, var(--jp-layout-color0, #111)));\n",
       "    --sklearn-color-border-box: var(--sg-text-color, var(--theme-code-foreground, var(--jp-content-font-color1, white)));\n",
       "    --sklearn-color-icon: #878787;\n",
       "  }\n",
       "}\n",
       "\n",
       "#sk-container-id-2 {\n",
       "  color: var(--sklearn-color-text);\n",
       "}\n",
       "\n",
       "#sk-container-id-2 pre {\n",
       "  padding: 0;\n",
       "}\n",
       "\n",
       "#sk-container-id-2 input.sk-hidden--visually {\n",
       "  border: 0;\n",
       "  clip: rect(1px 1px 1px 1px);\n",
       "  clip: rect(1px, 1px, 1px, 1px);\n",
       "  height: 1px;\n",
       "  margin: -1px;\n",
       "  overflow: hidden;\n",
       "  padding: 0;\n",
       "  position: absolute;\n",
       "  width: 1px;\n",
       "}\n",
       "\n",
       "#sk-container-id-2 div.sk-dashed-wrapped {\n",
       "  border: 1px dashed var(--sklearn-color-line);\n",
       "  margin: 0 0.4em 0.5em 0.4em;\n",
       "  box-sizing: border-box;\n",
       "  padding-bottom: 0.4em;\n",
       "  background-color: var(--sklearn-color-background);\n",
       "}\n",
       "\n",
       "#sk-container-id-2 div.sk-container {\n",
       "  /* jupyter's `normalize.less` sets `[hidden] { display: none; }`\n",
       "     but bootstrap.min.css set `[hidden] { display: none !important; }`\n",
       "     so we also need the `!important` here to be able to override the\n",
       "     default hidden behavior on the sphinx rendered scikit-learn.org.\n",
       "     See: https://github.com/scikit-learn/scikit-learn/issues/21755 */\n",
       "  display: inline-block !important;\n",
       "  position: relative;\n",
       "}\n",
       "\n",
       "#sk-container-id-2 div.sk-text-repr-fallback {\n",
       "  display: none;\n",
       "}\n",
       "\n",
       "div.sk-parallel-item,\n",
       "div.sk-serial,\n",
       "div.sk-item {\n",
       "  /* draw centered vertical line to link estimators */\n",
       "  background-image: linear-gradient(var(--sklearn-color-text-on-default-background), var(--sklearn-color-text-on-default-background));\n",
       "  background-size: 2px 100%;\n",
       "  background-repeat: no-repeat;\n",
       "  background-position: center center;\n",
       "}\n",
       "\n",
       "/* Parallel-specific style estimator block */\n",
       "\n",
       "#sk-container-id-2 div.sk-parallel-item::after {\n",
       "  content: \"\";\n",
       "  width: 100%;\n",
       "  border-bottom: 2px solid var(--sklearn-color-text-on-default-background);\n",
       "  flex-grow: 1;\n",
       "}\n",
       "\n",
       "#sk-container-id-2 div.sk-parallel {\n",
       "  display: flex;\n",
       "  align-items: stretch;\n",
       "  justify-content: center;\n",
       "  background-color: var(--sklearn-color-background);\n",
       "  position: relative;\n",
       "}\n",
       "\n",
       "#sk-container-id-2 div.sk-parallel-item {\n",
       "  display: flex;\n",
       "  flex-direction: column;\n",
       "}\n",
       "\n",
       "#sk-container-id-2 div.sk-parallel-item:first-child::after {\n",
       "  align-self: flex-end;\n",
       "  width: 50%;\n",
       "}\n",
       "\n",
       "#sk-container-id-2 div.sk-parallel-item:last-child::after {\n",
       "  align-self: flex-start;\n",
       "  width: 50%;\n",
       "}\n",
       "\n",
       "#sk-container-id-2 div.sk-parallel-item:only-child::after {\n",
       "  width: 0;\n",
       "}\n",
       "\n",
       "/* Serial-specific style estimator block */\n",
       "\n",
       "#sk-container-id-2 div.sk-serial {\n",
       "  display: flex;\n",
       "  flex-direction: column;\n",
       "  align-items: center;\n",
       "  background-color: var(--sklearn-color-background);\n",
       "  padding-right: 1em;\n",
       "  padding-left: 1em;\n",
       "}\n",
       "\n",
       "\n",
       "/* Toggleable style: style used for estimator/Pipeline/ColumnTransformer box that is\n",
       "clickable and can be expanded/collapsed.\n",
       "- Pipeline and ColumnTransformer use this feature and define the default style\n",
       "- Estimators will overwrite some part of the style using the `sk-estimator` class\n",
       "*/\n",
       "\n",
       "/* Pipeline and ColumnTransformer style (default) */\n",
       "\n",
       "#sk-container-id-2 div.sk-toggleable {\n",
       "  /* Default theme specific background. It is overwritten whether we have a\n",
       "  specific estimator or a Pipeline/ColumnTransformer */\n",
       "  background-color: var(--sklearn-color-background);\n",
       "}\n",
       "\n",
       "/* Toggleable label */\n",
       "#sk-container-id-2 label.sk-toggleable__label {\n",
       "  cursor: pointer;\n",
       "  display: block;\n",
       "  width: 100%;\n",
       "  margin-bottom: 0;\n",
       "  padding: 0.5em;\n",
       "  box-sizing: border-box;\n",
       "  text-align: center;\n",
       "}\n",
       "\n",
       "#sk-container-id-2 label.sk-toggleable__label-arrow:before {\n",
       "  /* Arrow on the left of the label */\n",
       "  content: \"▸\";\n",
       "  float: left;\n",
       "  margin-right: 0.25em;\n",
       "  color: var(--sklearn-color-icon);\n",
       "}\n",
       "\n",
       "#sk-container-id-2 label.sk-toggleable__label-arrow:hover:before {\n",
       "  color: var(--sklearn-color-text);\n",
       "}\n",
       "\n",
       "/* Toggleable content - dropdown */\n",
       "\n",
       "#sk-container-id-2 div.sk-toggleable__content {\n",
       "  max-height: 0;\n",
       "  max-width: 0;\n",
       "  overflow: hidden;\n",
       "  text-align: left;\n",
       "  /* unfitted */\n",
       "  background-color: var(--sklearn-color-unfitted-level-0);\n",
       "}\n",
       "\n",
       "#sk-container-id-2 div.sk-toggleable__content.fitted {\n",
       "  /* fitted */\n",
       "  background-color: var(--sklearn-color-fitted-level-0);\n",
       "}\n",
       "\n",
       "#sk-container-id-2 div.sk-toggleable__content pre {\n",
       "  margin: 0.2em;\n",
       "  border-radius: 0.25em;\n",
       "  color: var(--sklearn-color-text);\n",
       "  /* unfitted */\n",
       "  background-color: var(--sklearn-color-unfitted-level-0);\n",
       "}\n",
       "\n",
       "#sk-container-id-2 div.sk-toggleable__content.fitted pre {\n",
       "  /* unfitted */\n",
       "  background-color: var(--sklearn-color-fitted-level-0);\n",
       "}\n",
       "\n",
       "#sk-container-id-2 input.sk-toggleable__control:checked~div.sk-toggleable__content {\n",
       "  /* Expand drop-down */\n",
       "  max-height: 200px;\n",
       "  max-width: 100%;\n",
       "  overflow: auto;\n",
       "}\n",
       "\n",
       "#sk-container-id-2 input.sk-toggleable__control:checked~label.sk-toggleable__label-arrow:before {\n",
       "  content: \"▾\";\n",
       "}\n",
       "\n",
       "/* Pipeline/ColumnTransformer-specific style */\n",
       "\n",
       "#sk-container-id-2 div.sk-label input.sk-toggleable__control:checked~label.sk-toggleable__label {\n",
       "  color: var(--sklearn-color-text);\n",
       "  background-color: var(--sklearn-color-unfitted-level-2);\n",
       "}\n",
       "\n",
       "#sk-container-id-2 div.sk-label.fitted input.sk-toggleable__control:checked~label.sk-toggleable__label {\n",
       "  background-color: var(--sklearn-color-fitted-level-2);\n",
       "}\n",
       "\n",
       "/* Estimator-specific style */\n",
       "\n",
       "/* Colorize estimator box */\n",
       "#sk-container-id-2 div.sk-estimator input.sk-toggleable__control:checked~label.sk-toggleable__label {\n",
       "  /* unfitted */\n",
       "  background-color: var(--sklearn-color-unfitted-level-2);\n",
       "}\n",
       "\n",
       "#sk-container-id-2 div.sk-estimator.fitted input.sk-toggleable__control:checked~label.sk-toggleable__label {\n",
       "  /* fitted */\n",
       "  background-color: var(--sklearn-color-fitted-level-2);\n",
       "}\n",
       "\n",
       "#sk-container-id-2 div.sk-label label.sk-toggleable__label,\n",
       "#sk-container-id-2 div.sk-label label {\n",
       "  /* The background is the default theme color */\n",
       "  color: var(--sklearn-color-text-on-default-background);\n",
       "}\n",
       "\n",
       "/* On hover, darken the color of the background */\n",
       "#sk-container-id-2 div.sk-label:hover label.sk-toggleable__label {\n",
       "  color: var(--sklearn-color-text);\n",
       "  background-color: var(--sklearn-color-unfitted-level-2);\n",
       "}\n",
       "\n",
       "/* Label box, darken color on hover, fitted */\n",
       "#sk-container-id-2 div.sk-label.fitted:hover label.sk-toggleable__label.fitted {\n",
       "  color: var(--sklearn-color-text);\n",
       "  background-color: var(--sklearn-color-fitted-level-2);\n",
       "}\n",
       "\n",
       "/* Estimator label */\n",
       "\n",
       "#sk-container-id-2 div.sk-label label {\n",
       "  font-family: monospace;\n",
       "  font-weight: bold;\n",
       "  display: inline-block;\n",
       "  line-height: 1.2em;\n",
       "}\n",
       "\n",
       "#sk-container-id-2 div.sk-label-container {\n",
       "  text-align: center;\n",
       "}\n",
       "\n",
       "/* Estimator-specific */\n",
       "#sk-container-id-2 div.sk-estimator {\n",
       "  font-family: monospace;\n",
       "  border: 1px dotted var(--sklearn-color-border-box);\n",
       "  border-radius: 0.25em;\n",
       "  box-sizing: border-box;\n",
       "  margin-bottom: 0.5em;\n",
       "  /* unfitted */\n",
       "  background-color: var(--sklearn-color-unfitted-level-0);\n",
       "}\n",
       "\n",
       "#sk-container-id-2 div.sk-estimator.fitted {\n",
       "  /* fitted */\n",
       "  background-color: var(--sklearn-color-fitted-level-0);\n",
       "}\n",
       "\n",
       "/* on hover */\n",
       "#sk-container-id-2 div.sk-estimator:hover {\n",
       "  /* unfitted */\n",
       "  background-color: var(--sklearn-color-unfitted-level-2);\n",
       "}\n",
       "\n",
       "#sk-container-id-2 div.sk-estimator.fitted:hover {\n",
       "  /* fitted */\n",
       "  background-color: var(--sklearn-color-fitted-level-2);\n",
       "}\n",
       "\n",
       "/* Specification for estimator info (e.g. \"i\" and \"?\") */\n",
       "\n",
       "/* Common style for \"i\" and \"?\" */\n",
       "\n",
       ".sk-estimator-doc-link,\n",
       "a:link.sk-estimator-doc-link,\n",
       "a:visited.sk-estimator-doc-link {\n",
       "  float: right;\n",
       "  font-size: smaller;\n",
       "  line-height: 1em;\n",
       "  font-family: monospace;\n",
       "  background-color: var(--sklearn-color-background);\n",
       "  border-radius: 1em;\n",
       "  height: 1em;\n",
       "  width: 1em;\n",
       "  text-decoration: none !important;\n",
       "  margin-left: 1ex;\n",
       "  /* unfitted */\n",
       "  border: var(--sklearn-color-unfitted-level-1) 1pt solid;\n",
       "  color: var(--sklearn-color-unfitted-level-1);\n",
       "}\n",
       "\n",
       ".sk-estimator-doc-link.fitted,\n",
       "a:link.sk-estimator-doc-link.fitted,\n",
       "a:visited.sk-estimator-doc-link.fitted {\n",
       "  /* fitted */\n",
       "  border: var(--sklearn-color-fitted-level-1) 1pt solid;\n",
       "  color: var(--sklearn-color-fitted-level-1);\n",
       "}\n",
       "\n",
       "/* On hover */\n",
       "div.sk-estimator:hover .sk-estimator-doc-link:hover,\n",
       ".sk-estimator-doc-link:hover,\n",
       "div.sk-label-container:hover .sk-estimator-doc-link:hover,\n",
       ".sk-estimator-doc-link:hover {\n",
       "  /* unfitted */\n",
       "  background-color: var(--sklearn-color-unfitted-level-3);\n",
       "  color: var(--sklearn-color-background);\n",
       "  text-decoration: none;\n",
       "}\n",
       "\n",
       "div.sk-estimator.fitted:hover .sk-estimator-doc-link.fitted:hover,\n",
       ".sk-estimator-doc-link.fitted:hover,\n",
       "div.sk-label-container:hover .sk-estimator-doc-link.fitted:hover,\n",
       ".sk-estimator-doc-link.fitted:hover {\n",
       "  /* fitted */\n",
       "  background-color: var(--sklearn-color-fitted-level-3);\n",
       "  color: var(--sklearn-color-background);\n",
       "  text-decoration: none;\n",
       "}\n",
       "\n",
       "/* Span, style for the box shown on hovering the info icon */\n",
       ".sk-estimator-doc-link span {\n",
       "  display: none;\n",
       "  z-index: 9999;\n",
       "  position: relative;\n",
       "  font-weight: normal;\n",
       "  right: .2ex;\n",
       "  padding: .5ex;\n",
       "  margin: .5ex;\n",
       "  width: min-content;\n",
       "  min-width: 20ex;\n",
       "  max-width: 50ex;\n",
       "  color: var(--sklearn-color-text);\n",
       "  box-shadow: 2pt 2pt 4pt #999;\n",
       "  /* unfitted */\n",
       "  background: var(--sklearn-color-unfitted-level-0);\n",
       "  border: .5pt solid var(--sklearn-color-unfitted-level-3);\n",
       "}\n",
       "\n",
       ".sk-estimator-doc-link.fitted span {\n",
       "  /* fitted */\n",
       "  background: var(--sklearn-color-fitted-level-0);\n",
       "  border: var(--sklearn-color-fitted-level-3);\n",
       "}\n",
       "\n",
       ".sk-estimator-doc-link:hover span {\n",
       "  display: block;\n",
       "}\n",
       "\n",
       "/* \"?\"-specific style due to the `<a>` HTML tag */\n",
       "\n",
       "#sk-container-id-2 a.estimator_doc_link {\n",
       "  float: right;\n",
       "  font-size: 1rem;\n",
       "  line-height: 1em;\n",
       "  font-family: monospace;\n",
       "  background-color: var(--sklearn-color-background);\n",
       "  border-radius: 1rem;\n",
       "  height: 1rem;\n",
       "  width: 1rem;\n",
       "  text-decoration: none;\n",
       "  /* unfitted */\n",
       "  color: var(--sklearn-color-unfitted-level-1);\n",
       "  border: var(--sklearn-color-unfitted-level-1) 1pt solid;\n",
       "}\n",
       "\n",
       "#sk-container-id-2 a.estimator_doc_link.fitted {\n",
       "  /* fitted */\n",
       "  border: var(--sklearn-color-fitted-level-1) 1pt solid;\n",
       "  color: var(--sklearn-color-fitted-level-1);\n",
       "}\n",
       "\n",
       "/* On hover */\n",
       "#sk-container-id-2 a.estimator_doc_link:hover {\n",
       "  /* unfitted */\n",
       "  background-color: var(--sklearn-color-unfitted-level-3);\n",
       "  color: var(--sklearn-color-background);\n",
       "  text-decoration: none;\n",
       "}\n",
       "\n",
       "#sk-container-id-2 a.estimator_doc_link.fitted:hover {\n",
       "  /* fitted */\n",
       "  background-color: var(--sklearn-color-fitted-level-3);\n",
       "}\n",
       "</style><div id=\"sk-container-id-2\" class=\"sk-top-container\"><div class=\"sk-text-repr-fallback\"><pre>LinearRegression()</pre><b>In a Jupyter environment, please rerun this cell to show the HTML representation or trust the notebook. <br />On GitHub, the HTML representation is unable to render, please try loading this page with nbviewer.org.</b></div><div class=\"sk-container\" hidden><div class=\"sk-item\"><div class=\"sk-estimator fitted sk-toggleable\"><input class=\"sk-toggleable__control sk-hidden--visually\" id=\"sk-estimator-id-2\" type=\"checkbox\" checked><label for=\"sk-estimator-id-2\" class=\"sk-toggleable__label fitted sk-toggleable__label-arrow fitted\">&nbsp;&nbsp;LinearRegression<a class=\"sk-estimator-doc-link fitted\" rel=\"noreferrer\" target=\"_blank\" href=\"https://scikit-learn.org/1.5/modules/generated/sklearn.linear_model.LinearRegression.html\">?<span>Documentation for LinearRegression</span></a><span class=\"sk-estimator-doc-link fitted\">i<span>Fitted</span></span></label><div class=\"sk-toggleable__content fitted\"><pre>LinearRegression()</pre></div> </div></div></div></div>"
      ]
     },
     "execution_count": 105,
     "metadata": {},
     "output_type": "execute_result"
    }
   ],
   "execution_count": 105
  },
  {
   "metadata": {
    "ExecuteTime": {
     "end_time": "2024-11-25T14:46:12.800794Z",
     "start_time": "2024-11-25T14:46:12.796403Z"
    }
   },
   "cell_type": "code",
   "source": "regressor.coef_",
   "outputs": [
    {
     "data": {
      "text/plain": [
       "array([[-1.27927338e-02,  2.20917212e-01, -4.66418095e-02,\n",
       "         2.86105962e-03, -2.97951205e-05]])"
      ]
     },
     "execution_count": 106,
     "metadata": {},
     "output_type": "execute_result"
    }
   ],
   "execution_count": 106
  },
  {
   "metadata": {
    "ExecuteTime": {
     "end_time": "2024-11-25T14:46:12.864189Z",
     "start_time": "2024-11-25T14:46:12.860361Z"
    }
   },
   "cell_type": "code",
   "source": [
    "def x_procesada(x):\n",
    "    return [x ** -i for i in range(2, grado_minimo_negativo + 1)]\n",
    "\n",
    "x_procesada = np.array([0.808] + x_procesada(0.808)).reshape((1, -1)).tolist()\n",
    "print(regressor.predict(x_procesada))\n",
    "print(1.081)\n",
    "\n",
    "valor = 0\n",
    "\n",
    "for i in range(len(x_procesada)):\n",
    "    valor += abs(x_procesada[0][i] * regressor.coef_[0][i])\n",
    "print(regressor.intercept_)\n",
    "    \n",
    "print(valor)\n"
   ],
   "outputs": [
    {
     "name": "stdout",
     "output_type": "stream",
     "text": [
      "[[1.09425458]]\n",
      "1.081\n",
      "[0.84800162]\n",
      "0.01033652889288953\n"
     ]
    }
   ],
   "execution_count": 107
  },
  {
   "metadata": {
    "ExecuteTime": {
     "end_time": "2024-11-25T14:46:12.998451Z",
     "start_time": "2024-11-25T14:46:12.905436Z"
    }
   },
   "cell_type": "code",
   "source": [
    "def fun(x):\n",
    "    resultado = abs(regressor.coef_[0][0] * x)\n",
    "    for i, coef in enumerate(regressor.coef_[0][1:]):\n",
    "        resultado += coef * abs(x ** (-(2 + i)))\n",
    "        \n",
    "    return resultado + regressor.intercept_\n",
    "\n",
    "v_fun = np.vectorize(fun)\n",
    "        \n",
    "x_plot = np.linspace(-1, 1, 1000)\n",
    "y_plot = list(map(fun, x_plot))\n",
    "\n",
    "plt.plot(x_plot, y_plot, \"y\")\n",
    "plt.plot(x_vals, regressor.predict(X), \"bo\")\n",
    "plt.plot(x_vals, y_vals, \"ro\")\n",
    "plt.ylim([0, 5])"
   ],
   "outputs": [
    {
     "data": {
      "text/plain": [
       "(0.0, 5.0)"
      ]
     },
     "execution_count": 108,
     "metadata": {},
     "output_type": "execute_result"
    },
    {
     "data": {
      "text/plain": [
       "<Figure size 640x480 with 1 Axes>"
      ],
      "image/png": "[encoded data removed]"
     },
     "metadata": {},
     "output_type": "display_data"
    }
   ],
   "execution_count": 108
  },
  {
   "metadata": {
    "ExecuteTime": {
     "end_time": "2024-11-25T14:46:13.055885Z",
     "start_time": "2024-11-25T14:46:13.051457Z"
    }
   },
   "cell_type": "code",
   "source": "regressor.coef_",
   "outputs": [
    {
     "data": {
      "text/plain": [
       "array([[-1.27927338e-02,  2.20917212e-01, -4.66418095e-02,\n",
       "         2.86105962e-03, -2.97951205e-05]])"
      ]
     },
     "execution_count": 109,
     "metadata": {},
     "output_type": "execute_result"
    }
   ],
   "execution_count": 109
  },
  {
   "metadata": {
    "ExecuteTime": {
     "end_time": "2024-11-25T14:46:13.124464Z",
     "start_time": "2024-11-25T14:46:13.119998Z"
    }
   },
   "cell_type": "code",
   "source": [
    "# Datos proporcionados\n",
    "x_vals = np.array([0.808, 0.087, -0.359, -0.281, 0.257, 0.279, 0.604, -0.303, 0.722, -0.760, \n",
    "                   0.407, 0.215, -0.912, 0.013, -0.972])\n",
    "y_vals = np.array([1.081, 3.166, 1.801, 1.949, 2.024, 1.979, 1.275, 1.880, 1.126, 1.130,\n",
    "                   1.627, 2.247, 1.081, 5.006, 1.032])"
   ],
   "outputs": [],
   "execution_count": 110
  },
  {
   "metadata": {
    "ExecuteTime": {
     "end_time": "2024-11-25T14:46:13.166990Z",
     "start_time": "2024-11-25T14:46:13.163035Z"
    }
   },
   "cell_type": "code",
   "source": "x_vals, y_vals = np.array(sorted(zip(x_vals, y_vals), key = lambda x: x[0])).T",
   "outputs": [],
   "execution_count": 111
  },
  {
   "metadata": {
    "ExecuteTime": {
     "end_time": "2024-11-25T14:46:13.371783Z",
     "start_time": "2024-11-25T14:46:13.258594Z"
    }
   },
   "cell_type": "code",
   "source": [
    "from scipy.interpolate import CubicSpline\n",
    "\n",
    "splines = CubicSpline(x_vals, y_vals)\n",
    "\n",
    "x_plot = np.linspace(-1, 1, 100)\n",
    "y_analitica = splines(x_plot)\n",
    "\n",
    "plt.figure(figsize=(10, 6))\n",
    "plt.plot(x_vals, y_vals, \"ro\", label=\"Datos originales\")\n",
    "plt.plot(x_plot, y_analitica, \"g-\", label=\"Solución analítica (coef. no negativos)\")\n",
    "plt.ylim([0, 5])\n",
    "plt.xlabel(\"x\")\n",
    "plt.ylabel(\"y\")\n",
    "plt.legend()\n",
    "plt.title(\"Comparación de datos y solución analítica (coeficientes no negativos)\")\n",
    "plt.grid(True)\n",
    "plt.show()"
   ],
   "outputs": [
    {
     "data": {
      "text/plain": [
       "<Figure size 1000x600 with 1 Axes>"
      ],
      "image/png": "[encoded data removed]"
     },
     "metadata": {},
     "output_type": "display_data"
    }
   ],
   "execution_count": 112
  },
  {
   "metadata": {
    "ExecuteTime": {
     "end_time": "2024-11-25T14:46:13.491274Z",
     "start_time": "2024-11-25T14:46:13.381790Z"
    }
   },
   "cell_type": "code",
   "source": [
    "import numpy as np\n",
    "import pandas as pd\n",
    "from sklearn.svm import SVR\n",
    "import matplotlib.pyplot as plt\n",
    "\n",
    "# Datos proporcionados\n",
    "x_vals = np.array([0.808, 0.087, -0.359, -0.281, 0.257, 0.279, 0.604, -0.303, 0.722, -0.760, \n",
    "                   0.407, 0.215, -0.912, 0.013, -0.972])\n",
    "y_vals = np.array([1.081, 3.166, 1.801, 1.949, 2.024, 1.979, 1.275, 1.880, 1.126, 1.130,\n",
    "                   1.627, 2.247, 1.081, 5.006, 1.032])\n",
    "\n",
    "# Crear DataFrame\n",
    "df = pd.DataFrame({\"y_vals\": y_vals, \"x_vals\": x_vals})\n",
    "\n",
    "# Preprocesar los datos para el modelo SVR\n",
    "X = df[['x_vals']].values\n",
    "y = df['y_vals'].values\n",
    "\n",
    "# Ajustar el modelo SVR (Se usa un kernel RBF para suavizar la función)\n",
    "svr = SVR(kernel='rbf', C=100, epsilon=0.1)\n",
    "\n",
    "# Ajuste del modelo SVR\n",
    "svr.fit(X, y)\n",
    "\n",
    "# Generar valores predichos por el modelo para un rango más amplio de x\n",
    "x_plot = np.linspace(-1, 1, 100).reshape(-1, 1)\n",
    "y_svr = svr.predict(x_plot)\n",
    "\n",
    "# Graficar los resultados\n",
    "plt.figure(figsize=(10, 6))\n",
    "plt.plot(x_vals, y_vals, \"ro\", label=\"Datos originales\")  # Puntos originales\n",
    "plt.plot(x_plot, y_svr, \"g-\", label=\"Predicción SVR (suave y continua)\")  # Predicción suave\n",
    "plt.ylim([0, 5])\n",
    "plt.xlabel(\"x\")\n",
    "plt.ylabel(\"y\")\n",
    "plt.legend()\n",
    "plt.title(\"Uso de SVR para generar una función continua\")\n",
    "plt.grid(True)\n",
    "plt.show()"
   ],
   "outputs": [
    {
     "data": {
      "text/plain": [
       "<Figure size 1000x600 with 1 Axes>"
      ],
      "image/png": "[encoded data removed]"
     },
     "metadata": {},
     "output_type": "display_data"
    }
   ],
   "execution_count": 113
  },
  {
   "metadata": {
    "ExecuteTime": {
     "end_time": "2024-11-25T14:46:13.533484Z",
     "start_time": "2024-11-25T14:46:13.527814Z"
    }
   },
   "cell_type": "code",
   "source": [
    "from scipy.optimize import curve_fit\n",
    "\n",
    "def modelo(x, a, b, c):\n",
    "    return a * np.exp(-b * np.abs(x)) + c\n",
    "\n",
    "parametros_ini = [5, 1, 1]  # Suposición inicial de los parámetros\n",
    "parametros_optimos, covarianza = curve_fit(modelo, x_vals, y_vals, p0=parametros_ini)\n",
    "\n",
    "a_opt, b_opt, c_opt = parametros_optimos\n",
    "print(f\"a = {a_opt} b = {b_opt} c = {c_opt}\")\n",
    "\n",
    "x_pred = -0.16\n",
    "y_pred = modelo(x_pred, a_opt, b_opt, c_opt)\n",
    "print(f\"x = {x_pred} y = {y_pred:.3f}\")"
   ],
   "outputs": [
    {
     "name": "stdout",
     "output_type": "stream",
     "text": [
      "a = 3.9936864246674784 b = 5.662535747794341 c = 1.10212398501903\n",
      "x = -0.16 y = 2.716\n"
     ]
    }
   ],
   "execution_count": 114
  },
  {
   "metadata": {
    "ExecuteTime": {
     "end_time": "2024-11-25T14:46:13.662025Z",
     "start_time": "2024-11-25T14:46:13.569492Z"
    }
   },
   "cell_type": "code",
   "source": [
    "x_ajuste = np.linspace(min(x_vals), max(x_vals), 200)\n",
    "y_ajuste = modelo(x_ajuste, a_opt, b_opt, c_opt)\n",
    "\n",
    "plt.scatter(x_vals, y_vals)\n",
    "plt.plot(x_ajuste, y_ajuste, color='red',)\n",
    "plt.scatter(x_pred, y_pred, color='green')\n",
    "plt.xlabel('x')\n",
    "plt.ylabel('y')\n",
    "plt.show()\n"
   ],
   "outputs": [
    {
     "data": {
      "text/plain": [
       "<Figure size 640x480 with 1 Axes>"
      ],
      "image/png": "[encoded data removed]"
     },
     "metadata": {},
     "output_type": "display_data"
    }
   ],
   "execution_count": 115
  },
  {
   "cell_type": "markdown",
   "metadata": {},
   "source": [
    "------------------\n",
    "## Caso 4 — Subasta de 5€\n",
    "\n",
    "El día 28 de noviembre, en clase subastaré un billete de 5€. La subasta tiene unas normas un poco especiales:\n",
    " - El objetivo es pujar para ganar un billete de 5€.\n",
    " - El ganador recibirá 5€, pero a diferencia de las subastas \"normales\", **tanto el ganador como el subcampeón deberán pagar la cantidad de sus ofertas**.\n",
    " - Las ofertas deben aumentarse en incrementos mínimos de 20 céntimos.\n",
    " - No hay límites en la cantidad de rondas de pujas.\n",
    "\n",
    "Ejemplo: imagina que el grupo A comienza la puja por 20 céntimos. El grupo B sube la puja a 40 céntimos. El grupo A vuelve a subir la puja a 80 céntimos. Ahora el grupo C sube la puja a 1€ y 40 céntimos. No hay más pujas: el grupo B paga 80 céntimos. El grupo C paga 1€ y 40 céntimos, y recibe el billete de 5€.\n",
    "\n",
    "Si no pujas, no pierdes nada, y puedes ganar 5€ por una pequeña cantidad. Esto quiere decir que el [valor esperado](https://en.wikipedia.org/wiki/Expected_value) del juego es positivo, lo que significa que es rentable jugar.\n",
    "\n",
    "En el contexto de esta práctica, tu objetivo será **predecir la suma de las dos ofertas más altas** de la subasta."
   ]
  },
  {
   "metadata": {},
   "cell_type": "markdown",
   "source": [
    "# Análisis del Problema desde el Punto de Vista del Valor Esperado\n",
    "\n",
    "Vamos a analizar el problema desde el punto de vista del valor esperado, una parámetro analíticamente equivalente a la medio, que estima lo que ganarías de media jugando esta estrategia interactivamente, (solo vamos a hacer una subasta, pero creemos que tiene sentido plantear lo siguiente).\n",
    "\n",
    "Sea \\( X \\) la apuesta que se hace. Solo se apuesta si:\n",
    "\n",
    "$$\n",
    "\\text{Valor esperado} > \\text{Pérdida esperada}\n",
    "$$\n",
    "\n",
    "Es decir, debemos garantizar que nuestra estrategia sea viable a largo plazo. Esto se cumple si el valor esperado compensa las posibles pérdidas. Planteamos las siguientes expresiones:\n",
    "\n",
    "$$\n",
    "\\text{Valor esperado} = P_{\\text{ganar}}(X) \\cdot (5 - X)\n",
    "$$\n",
    "\n",
    "$$\n",
    "\\text{Pérdida esperada} = P_{\\text{perder}}(X) \\cdot X\n",
    "$$\n",
    "\n",
    "## Desarrollo de la desigualdad:\n",
    "\n",
    "La condición para apostar se escribe como:\n",
    "\n",
    "$$\n",
    "P_{\\text{ganar}}(X) \\cdot (5 - X) > P_{\\text{perder}}(X) \\cdot X\n",
    "$$\n",
    "\n",
    "Distribuyendo y reorganizando los términos:\n",
    "\n",
    "$$\n",
    "5 \\cdot P_{\\text{ganar}}(X) - P_{\\text{ganar}}(X) \\cdot X > P_{\\text{perder}}(X) \\cdot X\n",
    "$$\n",
    "\n",
    "Factorizamos \\( X \\) en los términos correspondientes:\n",
    "\n",
    "$$\n",
    "5 \\cdot P_{\\text{ganar}}(X) > X \\cdot \\big(P_{\\text{perder}}(X) + P_{\\text{ganar}}(X)\\big)\n",
    "$$\n",
    "\n",
    "Dividimos ambos lados por \\( P_{\\text{ganar}}(X) + P_{\\text{perder}}(X) \\), suponiendo que esta cantidad es positiva:\n",
    "\n",
    "$$\n",
    "X < \\frac{5 \\cdot P_{\\text{ganar}}(X)}{P_{\\text{ganar}}(X) + P_{\\text{perder}}(X)}\n",
    "$$\n",
    "\n",
    "## Extraccion de conclusiones:\n",
    "\n",
    "Ahora tenemos una expresión analítica de la cota superior de X, sin embargo no conocemos las funciones de densidad de probabilidad, que estiman la probabilidad de ganar o de perder en función de la cantidad apostada.\n",
    "\n",
    "Para encontrar esta cota superior, planteamos dos posibles métodos:\n",
    "\n",
    "1. Encontrar una relación analitítica entre $$P_{\\text{ganar}}(X)\\ y \\ P_{\\text{perder}}(X) $$.\n",
    "2. Estimar que funciones deberían de seguir estas funciones de densidad.\n",
    "\n",
    "### Vamos a desarrollar el primer metodo:\n",
    "\n",
    "Creemos que puede tener sentido plantear la siguiente relación $$P_{\\text{ganar}}(X)\\ = \\ P_{\\text{perder}}(X) $$ Con el objetivo de modelar un escernario el que todo el mundo juega de manera optima da tal manera que la probabilidad de ganar es igual a la probabilidad de perder, es decir quedar primero o segundo. Con esto podemos resolver para la cota superior de X.\n",
    "\n",
    "$$\n",
    "X < \\frac{1}{2} \\cdot 5 = 2.5\n",
    "$$\n",
    "\n",
    "Es decir las las apuestas de los jugadores deben estar acotadas superiormente por 2.50 euros.\n"
   ]
  },
  {
   "metadata": {},
   "cell_type": "markdown",
   "source": [
    "Sin embargo es posible que asumir esto sea demasiado restrictivo, por lo que desarrollaremos el segundo método para comparar resultados.\n",
    "\n",
    "Podemos asumir varias cosas de las funciones de densidad.\n",
    "\n",
    "- Debe existir una relacion entre ambas ya que la $ P_{\\text{perder}}(X) $ mia debe ser igual a la $ P_{\\text{ganar}}(X + incremento) $ de el jugador que me gane, ya que solo pierdo si un jugador apuesta mas que yo y nadie apuesta mas que el.\n",
    "- vamos a fijar este incremente como 0.20 asumiendo de este modo que la diferencias en las apuestas de el que gana y el que pierde es del incremento mínimo algo que es muy común en las subastas.\n",
    "- Entonces conseguirmos expresar $ P_{\\text{perder}}(X) = P_{\\text{ganar}}(X + 0.20)$ \n",
    "- Se debe alcanzar la probabilidad de cero si se apuesta 0 y la probabilidad de 1 si se apuestan 5 euros, asumiendo que nadie va a apostar teniendo la garantia de perder dinero.\n",
    "\n"
   ]
  },
  {
   "metadata": {
    "ExecuteTime": {
     "end_time": "2024-11-25T14:46:13.784847Z",
     "start_time": "2024-11-25T14:46:13.695439Z"
    }
   },
   "cell_type": "code",
   "source": [
    "import matplotlib.pyplot as plt\n",
    "import numpy as np\n",
    "\n",
    "def p_ganar_lineal(x):\n",
    "    if x < 0:\n",
    "        return 0\n",
    "    if 0 <= x <= 5:\n",
    "        return x / 5\n",
    "    else:\n",
    "        return 1\n",
    "    \n",
    "plt.plot(np.linspace(-1, 6, 100), list(map(p_ganar_lineal, np.linspace(-1, 6, 100))))"
   ],
   "outputs": [
    {
     "data": {
      "text/plain": [
       "[<matplotlib.lines.Line2D at 0x2009a0db440>]"
      ]
     },
     "execution_count": 116,
     "metadata": {},
     "output_type": "execute_result"
    },
    {
     "data": {
      "text/plain": [
       "<Figure size 640x480 with 1 Axes>"
      ],
      "image/png": "[encoded data removed]"
     },
     "metadata": {},
     "output_type": "display_data"
    }
   ],
   "execution_count": 116
  },
  {
   "metadata": {
    "ExecuteTime": {
     "end_time": "2024-11-25T14:46:13.821736Z",
     "start_time": "2024-11-25T14:46:13.817683Z"
    }
   },
   "cell_type": "code",
   "source": [
    "from scipy.optimize import root\n",
    "\n",
    "# Función P_perder\n",
    "def p_perder(x, p_ganar):\n",
    "    return p_ganar(x + 0.2)\n",
    "\n",
    "# Calcular la cota superior\n",
    "def cota_superior_apuesta(p_ganar):\n",
    "    # La función objetivo que queremos anular\n",
    "    def fun(x):\n",
    "        return (5 * p_ganar(x)) / (p_ganar(x) + p_perder(x, p_ganar)) - x\n",
    "\n",
    "    # Resolver la raíz\n",
    "    sol = root(fun, x0=[1])  # x0 es el punto inicial\n",
    "    return sol\n",
    "\n",
    "def printear_cota_superior(p_ganar):\n",
    "\n",
    "    # Llamada a la función\n",
    "    resultado = cota_superior_apuesta(p_ganar)\n",
    "    \n",
    "    # Imprimir el resultado\n",
    "    if resultado.success:\n",
    "        print(f\"Cota superior encontrada: {resultado.x[0]}\")\n",
    "    else:\n",
    "        print(\"No se encontró una solución.\")"
   ],
   "outputs": [],
   "execution_count": 117
  },
  {
   "metadata": {},
   "cell_type": "markdown",
   "source": [
    "proponemos otra funcion que quizas se aguste mas a la real, a la cual llegamos jugando con interoplacion de legrange en geogebra.\n",
    "\n",
    "<img src=\"img.png\">"
   ]
  },
  {
   "metadata": {
    "ExecuteTime": {
     "end_time": "2024-11-25T14:46:13.935659Z",
     "start_time": "2024-11-25T14:46:13.855690Z"
    }
   },
   "cell_type": "code",
   "source": [
    "def p_ganar_personalizado(x):\n",
    "    def expr(x):\n",
    "        a, b = 13, -2\n",
    "        return (x * (x - a)) / (5 * (5 - a)) + b * (x * (x - 5)) / (a * (a - 5))\n",
    "    if x < 0:\n",
    "        return 0\n",
    "    if 0 <= x <= 5:\n",
    "        valor = expr(x)\n",
    "        \n",
    "        if valor >= 1:\n",
    "            return 1\n",
    "        else:\n",
    "            return valor\n",
    "    else:\n",
    "        return 1\n",
    "    \n",
    "plt.plot(np.linspace(-1, 6, 100), list(map(p_ganar_personalizado, np.linspace(-1, 6, 100))))"
   ],
   "outputs": [
    {
     "data": {
      "text/plain": [
       "[<matplotlib.lines.Line2D at 0x2009b14a690>]"
      ]
     },
     "execution_count": 118,
     "metadata": {},
     "output_type": "execute_result"
    },
    {
     "data": {
      "text/plain": [
       "<Figure size 640x480 with 1 Axes>"
      ],
      "image/png": "[encoded data removed]"
     },
     "metadata": {},
     "output_type": "display_data"
    }
   ],
   "execution_count": 118
  },
  {
   "metadata": {
    "ExecuteTime": {
     "end_time": "2024-11-25T14:46:13.971791Z",
     "start_time": "2024-11-25T14:46:13.968379Z"
    }
   },
   "cell_type": "code",
   "source": "printear_cota_superior(p_ganar_personalizado)",
   "outputs": [
    {
     "name": "stdout",
     "output_type": "stream",
     "text": [
      "Cota superior encontrada: 2.437225210369047\n"
     ]
    }
   ],
   "execution_count": 119
  },
  {
   "metadata": {},
   "cell_type": "markdown",
   "source": [
    "## Solucion propuesta:\n",
    "Los tres métodos han llegado a resultados muy cercanos, nos vamos a quedar con la últimas de las soluciones y vamos a decir que última puja será de 2.40 y como estamos asumiendo una diferencia de 20 céntimos entre esta y la penúltima, el resultado final es de 4.60 euros que se pagaran por el billete."
   ]
  },
  {
   "cell_type": "markdown",
   "metadata": {},
   "source": [
    "------------------\n",
    "## Caso 5 — Experimento físico\n",
    "\n",
    "En clase se describirá un experimento físico que se llevará a cabo el día 28 de noviembre. Presta atención a los datos dados y a la variable a predecir.\n"
   ]
  },
  {
   "cell_type": "code",
   "metadata": {
    "ExecuteTime": {
     "end_time": "2024-11-25T14:46:14.006909Z",
     "start_time": "2024-11-25T14:46:14.004832Z"
    }
   },
   "source": "",
   "outputs": [],
   "execution_count": null
  },
  {
   "cell_type": "markdown",
   "metadata": {},
   "source": [
    "------------------\n",
    "## Caso 6 — Predicción deportiva\n",
    "\n",
    "El fin de semana del 29 Nov - 1 Dic se juega el partido O. Lyon vs Niza (*Ligue 1*, Francia). Tu objetivo es predecir el **número de corners que sacará el Niza** en ese partido. Tienes a tu disposición muchos datos históricos, por ejemplo en [esta web](https://www.football-data.co.uk/data.php)."
   ]
  },
  {
   "cell_type": "code",
   "metadata": {
    "ExecuteTime": {
     "end_time": "2024-11-25T14:47:02.263075Z",
     "start_time": "2024-11-25T14:47:02.260498Z"
    }
   },
   "source": [],
   "outputs": [],
   "execution_count": null
  }
 ],
 "metadata": {
  "kernelspec": {
   "display_name": ".venv",
   "language": "python",
   "name": "python3"
  },
  "language_info": {
   "codemirror_mode": {
    "name": "ipython",
    "version": 3
   },
   "file_extension": ".py",
   "mimetype": "text/x-python",
   "name": "python",
   "nbconvert_exporter": "python",
   "pygments_lexer": "ipython3",
   "version": "3.12.6"
  }
 },
 "nbformat": 4,
 "nbformat_minor": 2
}
